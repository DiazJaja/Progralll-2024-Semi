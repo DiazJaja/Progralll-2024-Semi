{
  "cells": [
    {
      "cell_type": "markdown",
      "metadata": {
        "id": "view-in-github",
        "colab_type": "text"
      },
      "source": [
        "<a href=\"https://colab.research.google.com/github/DiazJaja/Progralll-2024-Semi/blob/main/fundamentos_de_python.ipynb\" target=\"_parent\"><img src=\"https://colab.research.google.com/assets/colab-badge.svg\" alt=\"Open In Colab\"/></a>"
      ]
    },
    {
      "cell_type": "code",
      "execution_count": null,
      "metadata": {
        "colab": {
          "base_uri": "https://localhost:8080/"
        },
        "id": "PzVHx0b84XtH",
        "outputId": "205f63eb-098c-45a9-d3a5-e2a1e21c7c9b"
      },
      "outputs": [
        {
          "name": "stdout",
          "output_type": "stream",
          "text": [
            "Hola Mundo\n",
            "Hola  Juan Díaz , inicial:  J D\n"
          ]
        }
      ],
      "source": [
        "print(\"Hola Mundo\")\n",
        "nombre = \"Juan Díaz\"\n",
        "\n",
        "print(\"Hola \", nombre, \", inicial: \", nombre[0], nombre[5])"
      ]
    },
    {
      "cell_type": "markdown",
      "metadata": {
        "id": "vC2ApDWa9azl"
      },
      "source": [
        "Ejercicio: Crear un programa en python que sume dos numeros"
      ]
    },
    {
      "cell_type": "code",
      "execution_count": null,
      "metadata": {
        "colab": {
          "base_uri": "https://localhost:8080/"
        },
        "collapsed": true,
        "id": "0wDU3eVY9YmH",
        "outputId": "fa4745ac-236f-4e46-c965-be2fe44ee75b"
      },
      "outputs": [
        {
          "name": "stdout",
          "output_type": "stream",
          "text": [
            "La suma es:  14.5\n"
          ]
        }
      ],
      "source": [
        "num1 = 5\n",
        "num2 = 9.5\n",
        "resp = num1 + num2\n",
        "print(\"La suma es: \", resp)"
      ]
    },
    {
      "cell_type": "code",
      "execution_count": null,
      "metadata": {
        "colab": {
          "base_uri": "https://localhost:8080/"
        },
        "collapsed": true,
        "id": "T-kwnzpK_PRy",
        "outputId": "e650cd4f-b7f9-4724-925d-0a67b1a18b8a"
      },
      "outputs": [
        {
          "name": "stdout",
          "output_type": "stream",
          "text": [
            "Num 1\n",
            "9\n",
            "Num 2\n",
            "4.5\n",
            "La suma es:  13.5\n"
          ]
        }
      ],
      "source": [
        "print(\"Num 1\")\n",
        "num1 = int(input())\n",
        "\n",
        "print(\"Num 2\")\n",
        "num2 = float(input())\n",
        "\n",
        "resp = num1 + num2\n",
        "print(\"La suma es: \", resp)"
      ]
    },
    {
      "cell_type": "markdown",
      "metadata": {
        "id": "b8S121Ho_Lki"
      },
      "source": [
        "Ejercicio: Crear un programa en python que sume dos numeros introducidos por el usuario"
      ]
    },
    {
      "cell_type": "code",
      "execution_count": null,
      "metadata": {
        "colab": {
          "base_uri": "https://localhost:8080/"
        },
        "id": "69PAT39UB-nE",
        "outputId": "7d6c92fa-c027-4fce-d3ae-cdf496be9295"
      },
      "outputs": [
        {
          "name": "stdout",
          "output_type": "stream",
          "text": [
            "Juan Díaz Juan Juan z Díaz\n",
            "True\n",
            "<class 'str'> <class 'int'> <class 'float'> <class 'bool'>\n"
          ]
        }
      ],
      "source": [
        "#Tipos de datos\n",
        "num1 = 5 #entero\n",
        "num2 = 5.9 #decimal\n",
        "nombre = \"Juan Díaz\" #cadenas\n",
        "print(nombre, nombre[0:4], nombre[:4], nombre[-1], nombre[5:len(nombre)])\n",
        "\n",
        "estado = True\n",
        "print(estado)\n",
        "\n",
        "print(type(nombre), type(num1), type(num2), type(estado) )"
      ]
    },
    {
      "cell_type": "markdown",
      "metadata": {
        "id": "lihtLjRaEeEx"
      },
      "source": [
        "Ejercicio: Cree un programa en python que lea un numero y determine si es par o impar."
      ]
    },
    {
      "cell_type": "code",
      "execution_count": null,
      "metadata": {
        "colab": {
          "base_uri": "https://localhost:8080/"
        },
        "id": "LVNyrfuNEcva",
        "outputId": "cf93dc09-6f3c-49b6-9edf-cb8724edb937"
      },
      "outputs": [
        {
          "name": "stdout",
          "output_type": "stream",
          "text": [
            "ingrese un numero:5\n",
            "El numero es impar\n"
          ]
        }
      ],
      "source": [
        "num = int(input(\"ingrese un numero:\"))\n",
        "if num % 2 == 0:\n",
        "  print(\"El numero es par\", num)\n",
        "else:\n",
        "  print(\"El numero es impar\")"
      ]
    },
    {
      "cell_type": "markdown",
      "metadata": {
        "id": "00sakHR4aZDs"
      },
      "source": [
        "Ejercicio: Uso de las funciones de usuario, con la suma de dos numeros."
      ]
    },
    {
      "cell_type": "code",
      "execution_count": null,
      "metadata": {
        "id": "sH6B5vi4a3MU"
      },
      "outputs": [],
      "source": [
        "def suma(num1, num2):\n",
        "  return num1 + num2"
      ]
    },
    {
      "cell_type": "code",
      "execution_count": null,
      "metadata": {
        "colab": {
          "base_uri": "https://localhost:8080/"
        },
        "collapsed": true,
        "id": "5PC9JrhSYDw1",
        "outputId": "c68fe106-438e-44f6-b7ce-be1398acda66"
      },
      "outputs": [
        {
          "name": "stdout",
          "output_type": "stream",
          "text": [
            "Num 1: 5\n",
            "Num 2: 9\n",
            "La suma es:  14.0\n"
          ]
        }
      ],
      "source": [
        "num1 = float(input(\"Num 1: \"))\n",
        "num2 = float(input(\"Num 2: \"))\n",
        "\n",
        "resp = suma(num1, num2)\n",
        "print(\"La suma es: \", resp)"
      ]
    },
    {
      "cell_type": "markdown",
      "metadata": {
        "id": "z3OfFQoebMOr"
      },
      "source": [
        "Ejercicio: Convertir grados celsius a farenheit, usando funciones de usuario."
      ]
    },
    {
      "cell_type": "code",
      "execution_count": null,
      "metadata": {
        "id": "j7upreb6bXEU"
      },
      "outputs": [],
      "source": [
        "def convertir_cf(c):\n",
        "  return c*1.8 + 32"
      ]
    },
    {
      "cell_type": "code",
      "execution_count": null,
      "metadata": {
        "colab": {
          "base_uri": "https://localhost:8080/"
        },
        "id": "2KD7p4dubpb6",
        "outputId": "59baa4e7-70cb-4068-a440-39f5b22933aa"
      },
      "outputs": [
        {
          "name": "stdout",
          "output_type": "stream",
          "text": [
            "Celsius: 33\n",
            "F:  91.4\n"
          ]
        }
      ],
      "source": [
        "c = float(input(\"Celsius: \"))\n",
        "print(\"F: \", convertir_cf(c))"
      ]
    },
    {
      "cell_type": "markdown",
      "metadata": {
        "id": "4BsNf2AXfKNV"
      },
      "source": [
        "Ejercicio: Determina si un numero es par o impar"
      ]
    },
    {
      "cell_type": "code",
      "execution_count": null,
      "metadata": {
        "id": "LyMroWQRfHjt"
      },
      "outputs": [],
      "source": [
        "def parImpar(num):\n",
        "  if(num%2==0):\n",
        "    return \"par\"\n",
        "  return \"impar\""
      ]
    },
    {
      "cell_type": "code",
      "execution_count": null,
      "metadata": {
        "colab": {
          "base_uri": "https://localhost:8080/"
        },
        "id": "mt7ltqe2fv4n",
        "outputId": "f32178c2-30fc-48e0-c679-a326e02643c7"
      },
      "outputs": [
        {
          "name": "stdout",
          "output_type": "stream",
          "text": [
            "Num: 9\n",
            "EL numero  9  es:  impar\n"
          ]
        }
      ],
      "source": [
        "num = int(input(\"Num: \"))\n",
        "print(\"EL numero \", num, \" es: \", parImpar(num))"
      ]
    },
    {
      "cell_type": "markdown",
      "metadata": {
        "id": "0hcb_9QbhAFx"
      },
      "source": [
        "**TAREA (MIERCOLES):**\n",
        "1.   Convertir grados Farenheits a Celsius\n",
        "2.   Convertir grados [Celsius y Farenheit] a kelvin."
      ]
    },
    {
      "cell_type": "markdown",
      "metadata": {
        "id": "QlxycmTNT-Y4"
      },
      "source": [
        "Convertidor de grados Farenheits a Celsius."
      ]
    },
    {
      "cell_type": "code",
      "execution_count": null,
      "metadata": {
        "colab": {
          "base_uri": "https://localhost:8080/"
        },
        "id": "lM3RSYXRTzJL",
        "outputId": "39ba15b7-6551-444b-ef80-97603983458d"
      },
      "outputs": [
        {
          "name": "stdout",
          "output_type": "stream",
          "text": [
            "Ingrese los grados Fahrenheit: 121\n",
            "121.0 grados Fahrenheit son 49.44 grados Celsius.\n"
          ]
        }
      ],
      "source": [
        "def fahrenheit_a_celsius(fahrenheit):\n",
        "    celsius = (fahrenheit - 32) * 5.0/9.0\n",
        "    return celsius\n",
        "\n",
        "grados_fahrenheit = float(input(\"Ingrese los grados Fahrenheit: \"))\n",
        "grados_celsius = fahrenheit_a_celsius(grados_fahrenheit)\n",
        "\n",
        "print(str(grados_fahrenheit) + \" grados Fahrenheit son \" + str(round(grados_celsius, 2)) + \" grados Celsius.\")"
      ]
    },
    {
      "cell_type": "markdown",
      "metadata": {
        "id": "a4mT28uSUEoR"
      },
      "source": [
        "Convertidor grados Celsius y Farenheit a kelvin."
      ]
    },
    {
      "cell_type": "code",
      "execution_count": null,
      "metadata": {
        "colab": {
          "base_uri": "https://localhost:8080/"
        },
        "id": "8FoLdKjnULcs",
        "outputId": "9aa7b890-238c-4b62-9c75-af073bb5044d"
      },
      "outputs": [
        {
          "name": "stdout",
          "output_type": "stream",
          "text": [
            "¿Desea convertir de Celsius (C) o Fahrenheit (F) a Kelvin? Ingrese C o F: c\n",
            "Ingrese los grados Celsius: 121\n",
            "121.0 grados Celsius son 394.15 Kelvin.\n"
          ]
        }
      ],
      "source": [
        "def celsius_a_kelvin(celsius):\n",
        "    return celsius + 273.15\n",
        "\n",
        "def fahrenheit_a_kelvin(fahrenheit):\n",
        "    celsius = (fahrenheit - 32) * 5.0 / 9.0\n",
        "    return celsius + 273.15\n",
        "\n",
        "tipo = input(\"¿Desea convertir de Celsius (C) o Fahrenheit (F) a Kelvin? Ingrese C o F: \").strip().upper()\n",
        "\n",
        "if tipo == 'C':\n",
        "\n",
        "    grados_celsius = float(input(\"Ingrese los grados Celsius: \"))\n",
        "    kelvin = celsius_a_kelvin(grados_celsius)\n",
        "\n",
        "    print(str(grados_celsius) + \" grados Celsius son \" + str(round(kelvin, 2)) + \" Kelvin.\")\n",
        "\n",
        "elif tipo == 'F':\n",
        "\n",
        "    grados_fahrenheit = float(input(\"Ingrese los grados Fahrenheit: \"))\n",
        "    kelvin = fahrenheit_a_kelvin(grados_fahrenheit)\n",
        "\n",
        "    print(str(grados_fahrenheit) + \" grados Fahrenheit son \" + str(round(kelvin, 2)) + \" Kelvin.\")\n",
        "\n",
        "else:\n",
        "\n",
        "    print(\"Opción no válida. Por favor ingrese C o F.\")"
      ]
    },
    {
      "cell_type": "markdown",
      "metadata": {
        "id": "S7i1B0W1hppG"
      },
      "source": [
        "Ejercicio: Calcular el sueldo de un trabajador."
      ]
    },
    {
      "cell_type": "code",
      "execution_count": null,
      "metadata": {
        "id": "FXdQ_105hfId"
      },
      "outputs": [],
      "source": [
        "def sueldo(numHrs, valorXHrs):\n",
        "  sueldo = numHrs * valorXHrs * 30 # 10*1.5*30 = 450\n",
        "  if(numHrs>8):\n",
        "    sueldo = sueldo + (numHrs-8) * valorXHrs * 30 # 2*1.5*30 = 90\n",
        "  return sueldo"
      ]
    },
    {
      "cell_type": "code",
      "execution_count": null,
      "metadata": {
        "colab": {
          "base_uri": "https://localhost:8080/"
        },
        "id": "oBSx0kVqh9bp",
        "outputId": "aa419b4c-a0f8-45db-8654-2099b672dbd4"
      },
      "outputs": [
        {
          "name": "stdout",
          "output_type": "stream",
          "text": [
            "Horas: 10\n",
            "Valor: 1.5\n",
            "Sueldo:  540.0\n"
          ]
        }
      ],
      "source": [
        "numHrs = int(input(\"Horas: \"))\n",
        "valorXHrs = float(input(\"Valor: \"))\n",
        "\n",
        "print(\"Sueldo: \", sueldo(numHrs, valorXHrs))"
      ]
    },
    {
      "cell_type": "markdown",
      "metadata": {
        "id": "Rgwwh_9T541S"
      },
      "source": [
        "Ejercicio: Elevar un numero al cuadrado."
      ]
    },
    {
      "cell_type": "code",
      "execution_count": null,
      "metadata": {
        "id": "ePvwoRM_6HsV"
      },
      "outputs": [],
      "source": [
        "def elevarCuadrado(base=0, exponente=2):\n",
        "  return base**exponente"
      ]
    },
    {
      "cell_type": "code",
      "execution_count": null,
      "metadata": {
        "colab": {
          "base_uri": "https://localhost:8080/"
        },
        "collapsed": true,
        "id": "JSl4IfzK6R8J",
        "outputId": "05c29ba4-2905-4b4f-f329-92e9bd0d9717"
      },
      "outputs": [
        {
          "name": "stdout",
          "output_type": "stream",
          "text": [
            "Num: 4\n",
            "Cuadrado:  64\n"
          ]
        }
      ],
      "source": [
        "num = int(input(\"Num: \"))\n",
        "print(\"Cuadrado: \", elevarCuadrado(num, 3))"
      ]
    },
    {
      "cell_type": "markdown",
      "metadata": {
        "id": "9BlqFgzs8DPW"
      },
      "source": [
        "Usando funciones lambda."
      ]
    },
    {
      "cell_type": "code",
      "execution_count": null,
      "metadata": {
        "id": "XTWuOQn58CYO"
      },
      "outputs": [],
      "source": [
        "elevarCuadradoLambda = lambda base, exponente: base**exponente"
      ]
    },
    {
      "cell_type": "code",
      "execution_count": null,
      "metadata": {
        "colab": {
          "base_uri": "https://localhost:8080/"
        },
        "id": "GO4TWEqa85Fs",
        "outputId": "38cd7cb9-7941-496c-bd3b-e3e8b37715ce"
      },
      "outputs": [
        {
          "name": "stdout",
          "output_type": "stream",
          "text": [
            "Num: 4\n",
            "Cuadrado:  16\n"
          ]
        }
      ],
      "source": [
        "valor = int(input(\"Num: \"))\n",
        "print(\"Cuadrado: \", elevarCuadradoLambda(valor, 2))"
      ]
    },
    {
      "cell_type": "markdown",
      "metadata": {
        "id": "8HjU_xAyXU3A"
      },
      "source": [
        "Ejercicio: obtener la raiz cuadrada de una serie de numeros fijos."
      ]
    },
    {
      "cell_type": "code",
      "execution_count": null,
      "metadata": {
        "colab": {
          "base_uri": "https://localhost:8080/"
        },
        "id": "kRU7wOnP_Z5_",
        "outputId": "e51e6648-1610-471f-97d9-dd544da33739"
      },
      "outputs": [
        {
          "name": "stdout",
          "output_type": "stream",
          "text": [
            "[2.23606797749979, 2.0, 1.7320508075688772, 1.4142135623730951, 2.449489742783178, 2.6457513110645907]\n"
          ]
        }
      ],
      "source": [
        "serie = [5, 4, 3, 2, 6, 7]\n",
        "\n",
        "resp = map(lambda x: x**0.5, serie)\n",
        "print(list(resp))"
      ]
    },
    {
      "cell_type": "markdown",
      "metadata": {
        "id": "z_cjhecGbTuF"
      },
      "source": [
        "Ejercicios con funciones preconstruidas en python.:\n",
        "\n",
        "* MAP."
      ]
    },
    {
      "cell_type": "code",
      "execution_count": null,
      "metadata": {
        "colab": {
          "base_uri": "https://localhost:8080/"
        },
        "id": "bTITuzd8C8fn",
        "outputId": "6c83c2e9-049d-4844-9730-2ac0e84e442a"
      },
      "outputs": [
        {
          "name": "stdout",
          "output_type": "stream",
          "text": [
            "[2, 4, 6, 8, 10, 12, 14, 16, 18]\n"
          ]
        }
      ],
      "source": [
        "numeros = [1,2,3,4,5,6,7,8,9]\n",
        "print(list(map(lambda n: n*2, numeros)))"
      ]
    },
    {
      "cell_type": "code",
      "execution_count": null,
      "metadata": {
        "colab": {
          "base_uri": "https://localhost:8080/"
        },
        "id": "ZRS2K312b7_e",
        "outputId": "9a4f21b4-13b9-4345-e705-54c7549c334f"
      },
      "outputs": [
        {
          "name": "stdout",
          "output_type": "stream",
          "text": [
            "Tabla: 7\n",
            "[7, 14, 21, 28, 35, 42, 49, 56, 63, 70]\n"
          ]
        }
      ],
      "source": [
        "numeros = [1,2,3,4,5,6,7,8,9, 10]\n",
        "ntabla = int(input(\"Tabla: \"))\n",
        "print(list(map(lambda n: n*ntabla, numeros))) #tabla de multiplicar"
      ]
    },
    {
      "cell_type": "markdown",
      "metadata": {
        "id": "LgIiXtRxc_7s"
      },
      "source": [
        "* FILTER"
      ]
    },
    {
      "cell_type": "code",
      "execution_count": null,
      "metadata": {
        "colab": {
          "base_uri": "https://localhost:8080/"
        },
        "id": "_ZZnhkq2c_bt",
        "outputId": "ed53ae21-5c44-4c5a-fae1-b0c199d4d6e8"
      },
      "outputs": [
        {
          "name": "stdout",
          "output_type": "stream",
          "text": [
            "Pares:  [2, 4, 6, 8, 10]\n",
            "Impares:  [1, 3, 5, 7, 9]\n"
          ]
        }
      ],
      "source": [
        "numeros = [1,2,3,4,5,6,7,8,9,10]\n",
        "print(\"Pares: \", list(filter(lambda n: n%2==0, numeros))) #obtener solo los numeros pares.\n",
        "print(\"Impares: \", list(filter(lambda n: n%2!=0, numeros))) #obtener solo los numeros impares"
      ]
    },
    {
      "cell_type": "code",
      "execution_count": null,
      "metadata": {
        "colab": {
          "base_uri": "https://localhost:8080/"
        },
        "id": "d3z2gaiedn19",
        "outputId": "9e7d0fc2-b10f-4f83-d467-f2e8e2424724"
      },
      "outputs": [
        {
          "name": "stdout",
          "output_type": "stream",
          "text": [
            "Aprobados:  [8, 9, 10, 7, 6, 9, 10, 8, 9]\n",
            "Reprobados:  [4, 2, 3, 1, 2]\n"
          ]
        }
      ],
      "source": [
        "notas = [8,4,9,10,7,6,9,10,2,3,1,8,2,9]\n",
        "print(\"Aprobados: \", list(filter(lambda n: n>=6, notas)))\n",
        "print(\"Reprobados: \", list(filter(lambda n: n<6, notas)))"
      ]
    },
    {
      "cell_type": "markdown",
      "metadata": {
        "id": "_SoSWq5seLqW"
      },
      "source": [
        "* REDUCE"
      ]
    },
    {
      "cell_type": "code",
      "execution_count": null,
      "metadata": {
        "colab": {
          "base_uri": "https://localhost:8080/"
        },
        "id": "rt36E0jfeIxl",
        "outputId": "4a4c3b1a-2bb5-4a53-ce31-0c1fe9eb60c8"
      },
      "outputs": [
        {
          "name": "stdout",
          "output_type": "stream",
          "text": [
            "Suma:  34\n"
          ]
        }
      ],
      "source": [
        "from functools import reduce\n",
        "numeros = [7,8,9,10]\n",
        "print(\"Suma: \", reduce(lambda n, acum: n+acum, numeros))"
      ]
    },
    {
      "cell_type": "code",
      "execution_count": null,
      "metadata": {
        "colab": {
          "base_uri": "https://localhost:8080/"
        },
        "id": "FrzhUHY_e4Gk",
        "outputId": "fbf89ba3-8a4b-4b6c-fea2-369f46ed6fb8"
      },
      "outputs": [
        {
          "name": "stdout",
          "output_type": "stream",
          "text": [
            "Num Mayor:  10\n",
            "Num Menor:  1\n"
          ]
        }
      ],
      "source": [
        "numeros = [7,8,9,10, 1,5]\n",
        "print(\"Num Mayor: \", reduce(lambda n, mayor: n if n>mayor else mayor, numeros))\n",
        "print(\"Num Menor: \", reduce(lambda n, menor: n if n<menor else menor, numeros))"
      ]
    },
    {
      "cell_type": "markdown",
      "metadata": {
        "id": "NeujQ0o2goJr"
      },
      "source": [
        "**TUPLAS**"
      ]
    },
    {
      "cell_type": "code",
      "execution_count": null,
      "metadata": {
        "colab": {
          "base_uri": "https://localhost:8080/"
        },
        "id": "q50klQU9gr60",
        "outputId": "1645e771-df37-467c-ce41-e3b7a18ef31f"
      },
      "outputs": [
        {
          "name": "stdout",
          "output_type": "stream",
          "text": [
            "Tupla:  (5, 8, 7, 9, 5, 4, 7) Primer:  5 Ultimo:  7 Rango: 2-6  (7, 9, 5, 4)\n",
            "2\n"
          ]
        }
      ],
      "source": [
        "numeros = (5,8,7,9,5,4,7)\n",
        "print(\"Tupla: \", numeros, \"Primer: \", numeros[0], \"Ultimo: \", numeros[-1], \"Rango: 2-6 \", numeros[2:6])\n",
        "print(numeros.count(5))"
      ]
    },
    {
      "cell_type": "code",
      "execution_count": null,
      "metadata": {
        "colab": {
          "base_uri": "https://localhost:8080/"
        },
        "id": "QtDrGzBahlON",
        "outputId": "f5aba41d-7680-4138-84c3-b3171de2b39d"
      },
      "outputs": [
        {
          "name": "stdout",
          "output_type": "stream",
          "text": [
            "Primer dia:  domingo ; Cuantas veces repite domingo:  1 ; dias de la seman:  7\n"
          ]
        }
      ],
      "source": [
        "semana = (\"domingo\", \"lunes\", \"martes\", \"miercoles\", \"jueves\", \"viernes\", \"sabado\")\n",
        "print(\"Primer dia: \",semana[0], \"; Cuantas veces repite domingo: \",semana.count(\"domingo\"), \"; dias de la seman: \", len(semana))"
      ]
    },
    {
      "cell_type": "code",
      "execution_count": null,
      "metadata": {
        "colab": {
          "base_uri": "https://localhost:8080/"
        },
        "id": "T58-t4HgiiG0",
        "outputId": "cb71c986-b81a-45a9-edee-885804a20883"
      },
      "outputs": [
        {
          "name": "stdout",
          "output_type": "stream",
          "text": [
            "Fecha:  lunes 29  de  agosto  del  2024\n"
          ]
        }
      ],
      "source": [
        "import datetime\n",
        "hoy = datetime.date.today()\n",
        "dia = hoy.day\n",
        "mes = hoy.month\n",
        "year = hoy.year\n",
        "dia_semana = hoy.isoweekday()\n",
        "\n",
        "semana = (\"domingo\",\"lunes\",\"martes\",\"miercoles\",\"jueves\", \"viernes\", \"sabado\")\n",
        "meses = (\"enero\", \"febrero\", \"marzo\", \"abril\", \"mayo\", \"junio\", \"julio\", \"agosto\", \"septiembre\", \"octubre\", \"noviembre\", \"diciembre\")\n",
        "\n",
        "print(\"Fecha: \", semana[dia_semana], dia, \" de \", meses[mes], \" del \", year)\n",
        "\n"
      ]
    },
    {
      "cell_type": "code",
      "execution_count": null,
      "metadata": {
        "colab": {
          "base_uri": "https://localhost:8080/"
        },
        "id": "PGssJxIUlAMD",
        "outputId": "5c8e18fc-b75a-44ca-ad52-498c17707033"
      },
      "outputs": [
        {
          "name": "stdout",
          "output_type": "stream",
          "text": [
            "('Luis', 'Juan')\n",
            "['Pedro', 'Juan']\n"
          ]
        }
      ],
      "source": [
        "tuplas = (\"Luis\",\"Juan\")\n",
        "#tuplas[0] = \"Pedro\" #Las tuplas son inmutables, no puede cambiar su valor.\n",
        "print(tuplas)\n",
        "\n",
        "listas = [\"Luis\",\"Juan\"]\n",
        "listas[0] = \"Pedro\" #Las listas son mutables, si puede cambiar su valor.\n",
        "print(listas)"
      ]
    },
    {
      "cell_type": "markdown",
      "metadata": {
        "id": "2qMAI3EellAS"
      },
      "source": [
        "**LISTAS**"
      ]
    },
    {
      "cell_type": "code",
      "execution_count": null,
      "metadata": {
        "colab": {
          "base_uri": "https://localhost:8080/"
        },
        "id": "1VIsDuCglkjq",
        "outputId": "38b2346e-cbd8-432b-d893-94b70bd01d85"
      },
      "outputs": [
        {
          "name": "stdout",
          "output_type": "stream",
          "text": [
            "[5, 8, 7, 9, 'Luis', 'Jonathan', 'Ramon'] Ramon\n"
          ]
        }
      ],
      "source": [
        "listas = [5,8,7,9,\"Luis\", \"Jonathan\", \"Ramon\"]\n",
        "print(listas, listas[-1])"
      ]
    },
    {
      "cell_type": "code",
      "execution_count": null,
      "metadata": {
        "id": "Krf-kaFxmtvC"
      },
      "outputs": [],
      "source": [
        "def obtenerNota(nota, eval):\n",
        "  return eval[1]*0.3 + nota"
      ]
    },
    {
      "cell_type": "code",
      "execution_count": null,
      "metadata": {
        "colab": {
          "base_uri": "https://localhost:8080/"
        },
        "id": "ujVjshw2l2D8",
        "outputId": "b20dc22e-1c16-4c41-9587-64fd7e03a5de"
      },
      "outputs": [
        {
          "data": {
            "text/plain": [
              "7.5"
            ]
          },
          "execution_count": 110,
          "metadata": {},
          "output_type": "execute_result"
        }
      ],
      "source": [
        "matriz = [ [\"Lab1\", 8],[\"Lab2\", 9], [\"Parcial\", 8] ] #8*0.3=2.4 + 9*0.3=2.7 + 8*0.3=2.4\n",
        "reduce(obtenerNota, matriz, 0)"
      ]
    },
    {
      "cell_type": "code",
      "execution_count": null,
      "metadata": {
        "colab": {
          "base_uri": "https://localhost:8080/"
        },
        "id": "pFvz6pAzD9Er",
        "outputId": "8b65e53f-51ab-4a1a-933c-3af07ba94ca8"
      },
      "outputs": [
        {
          "name": "stdout",
          "output_type": "stream",
          "text": [
            "2\n"
          ]
        }
      ],
      "source": [
        "serie = [1,2,3,3,4,4,1,8,9]\n",
        "print(serie.count(1))"
      ]
    },
    {
      "cell_type": "code",
      "execution_count": null,
      "metadata": {
        "colab": {
          "base_uri": "https://localhost:8080/"
        },
        "id": "QY02OzhzE21b",
        "outputId": "3155265c-a0f5-4ffb-d7d4-e749b83183ad"
      },
      "outputs": [
        {
          "name": "stdout",
          "output_type": "stream",
          "text": [
            "Num: 1: 1\n",
            "Num: 2: 2\n",
            "Num: 3: 3\n",
            "Num: 4: 4\n",
            "Num: 5: 5\n",
            "Num: 6: 6\n",
            "Num: 7: 7\n",
            "Num: 8: 8\n",
            "Num: 9: 9\n",
            "Num a buscar: 2\n",
            "Serie:  [1, 2, 3, 4, 5, 6, 7, 8, 9] El numero  2 , se repite:  1\n"
          ]
        }
      ],
      "source": [
        "numeros = []\n",
        "for i in range(1,10):\n",
        "  numeros.append(int(input(\"Num: \"+ str(i)+\": \")))\n",
        "num = int(input(\"Num a buscar: \"))\n",
        "print(\"Serie: \", numeros, \"El numero \", num, \", se repite: \", numeros.count(num))"
      ]
    },
    {
      "cell_type": "code",
      "execution_count": null,
      "metadata": {
        "colab": {
          "base_uri": "https://localhost:8080/"
        },
        "id": "tq4B_rsjFAPM",
        "outputId": "ded2a1d1-e19f-4210-94c6-80c041394094"
      },
      "outputs": [
        {
          "name": "stdout",
          "output_type": "stream",
          "text": [
            "[6, 5, 4, 2, 2, 1, 1]\n"
          ]
        }
      ],
      "source": [
        "numeros = [1,5,2,6,2,1,4]\n",
        "numeros.sort()\n",
        "numeros.reverse()\n",
        "print(numeros)"
      ]
    },
    {
      "cell_type": "markdown",
      "metadata": {
        "id": "5aCLFm2RFE_m"
      },
      "source": [
        "DICCIONARIOS - JSON"
      ]
    },
    {
      "cell_type": "code",
      "execution_count": null,
      "metadata": {
        "colab": {
          "base_uri": "https://localhost:8080/"
        },
        "id": "MQBnG-oQFIGZ",
        "outputId": "80a3a806-0007-4ecb-f851-997bbc2128ef"
      },
      "outputs": [
        {
          "name": "stdout",
          "output_type": "stream",
          "text": [
            "Luis Hernandez Programacion III {'lab1': 8, 'lab2': 9, 'parcial': 10}\n"
          ]
        }
      ],
      "source": [
        "datos = {\n",
        "    \"codigo\":\"USIS018804\",\n",
        "    \"nombre\":\"Luis Hernandez\",\n",
        "    \"materias\":[\n",
        "        {\"codigo\":\"611\",\"nombre\":\"Programacion III\",\"notas\":{\n",
        "            \"c1\":{\"lab1\":8,\"lab2\":9,\"parcial\":10},\n",
        "            \"c2\":{\"lab1\":10,\"lab2\":9,\"parcial\":10},\n",
        "            \"c3\":{\"lab1\":4,\"lab2\":5,\"parcial\":8}\n",
        "            }\n",
        "         },\n",
        "        {\"codigo\":\"612\",\"nombre\":\"Base de Datos\"}\n",
        "    ]\n",
        "}\n",
        "print(datos[\"nombre\"], datos[\"materias\"][0][\"nombre\"], datos[\"materias\"][0][\"notas\"][\"c1\"])"
      ]
    },
    {
      "cell_type": "markdown",
      "metadata": {
        "id": "mzo7Y7aaFp7L"
      },
      "source": [
        "ESTRUCTURA DE CONTROL IF: Ejercicio: solicitar al usuario la edad y determinar su clasificacion."
      ]
    },
    {
      "cell_type": "code",
      "execution_count": null,
      "metadata": {
        "colab": {
          "base_uri": "https://localhost:8080/"
        },
        "id": "r1RSXumGFxau",
        "outputId": "06a30e6c-72b8-4385-9066-029247692286"
      },
      "outputs": [
        {
          "name": "stdout",
          "output_type": "stream",
          "text": [
            "Edad: 20\n",
            "Bienvenido al mundo de los adultos\n"
          ]
        }
      ],
      "source": [
        "edad = int(input(\"Edad: \"))\n",
        "if edad >= 17:\n",
        "  print(\"Bienvenido al mundo de los adultos\")"
      ]
    },
    {
      "cell_type": "code",
      "execution_count": null,
      "metadata": {
        "colab": {
          "base_uri": "https://localhost:8080/"
        },
        "id": "88n2kjCBHrGE",
        "outputId": "bb0f3b43-d42f-41dd-98e0-ee1e39d7ea0a"
      },
      "outputs": [
        {
          "name": "stdout",
          "output_type": "stream",
          "text": [
            "Edad:18\n",
            "Eres un adolescente\n",
            "Desea continuar? Presiona S para continuar, si otro boton para salir: d\n"
          ]
        }
      ],
      "source": [
        "continuar = \"S\"\n",
        "while continuar == \"S\":\n",
        "  edad = int(input(\"Edad:\"))\n",
        "\n",
        "  if(edad<0): #evitar edades negativas\n",
        "    print(\"Edad incorrecta\")\n",
        "  elif edad<=2:\n",
        "    print(\"Eres un bebe\")\n",
        "  elif edad<=12:\n",
        "     print(\"Eres un niño\")\n",
        "  elif edad<=18:\n",
        "     print(\"Eres un adolescente\")\n",
        "  elif edad<=65:\n",
        "    print(\"Eres un adulto\")\n",
        "  elif edad<=85:\n",
        "    print(\"Eres un adulto mayor\")\n",
        "  else:\n",
        "    print(\"Larga vida\")\n",
        "  continuar = input(\"Desea continuar? Presiona S para continuar, si otro boton para salir: \")\n"
      ]
    },
    {
      "cell_type": "markdown",
      "metadata": {
        "id": "TrR-rdcvOuKn"
      },
      "source": [
        "Solicitar un numero y verificar si es positivo o negativo."
      ]
    },
    {
      "cell_type": "code",
      "execution_count": null,
      "metadata": {
        "colab": {
          "base_uri": "https://localhost:8080/"
        },
        "id": "ImoVR8BAKQdQ",
        "outputId": "2feea504-3039-449e-ac41-8ea6e2c5e5b3"
      },
      "outputs": [
        {
          "name": "stdout",
          "output_type": "stream",
          "text": [
            "Num: 0\n",
            "El numero es cero\n"
          ]
        }
      ],
      "source": [
        "num = int(input(\"Num: \"))\n",
        "if(num>0):\n",
        "  print(\"El numero es positivo\")\n",
        "elif(num==0):\n",
        "  print(\"El numero es cero\")\n",
        "else:\n",
        "  print(\"El numero es negativo\")\n"
      ]
    },
    {
      "cell_type": "markdown",
      "metadata": {
        "id": "Byne3vAQPBYV"
      },
      "source": [
        "Solicitar una tabla de multiplicar y generarla."
      ]
    },
    {
      "cell_type": "code",
      "execution_count": null,
      "metadata": {
        "colab": {
          "base_uri": "https://localhost:8080/"
        },
        "id": "Gas5U1IgPKIO",
        "outputId": "7ee899bd-65df-4724-ef8d-1c0e122d5ba3"
      },
      "outputs": [
        {
          "name": "stdout",
          "output_type": "stream",
          "text": [
            "Tabla: 1\n",
            "1 x 1 = 1\n",
            "1 x 2 = 2\n",
            "1 x 3 = 3\n",
            "1 x 4 = 4\n",
            "1 x 5 = 5\n",
            "1 x 6 = 6\n",
            "1 x 7 = 7\n",
            "1 x 8 = 8\n",
            "1 x 9 = 9\n",
            "1 x 10 = 10\n",
            "Desea continuar? Presiona S para continuar, si otro boton para salir: b \n"
          ]
        }
      ],
      "source": [
        "continuar = \"S\"\n",
        "while continuar == \"S\":\n",
        "  ntabla = int(input(\"Tabla: \"))\n",
        "  for i in range(1,11):\n",
        "    print(ntabla, \"x\", i, \"=\", ntabla*i)\n",
        "  continuar = input(\"Desea continuar? Presiona S para continuar, si otro boton para salir: \")"
      ]
    },
    {
      "cell_type": "markdown",
      "source": [
        "PROGRAMACION ORIENTADA A OBJETOS"
      ],
      "metadata": {
        "id": "FHC5PUhfveMO"
      }
    },
    {
      "cell_type": "markdown",
      "source": [
        "\n",
        "\n",
        "*   CLASE"
      ],
      "metadata": {
        "id": "lJ0Ns_trvjHy"
      }
    },
    {
      "cell_type": "code",
      "source": [
        "class Calculadora:\n",
        "  def sumar(self, num1, num2):\n",
        "    return num1 + num2"
      ],
      "metadata": {
        "id": "gMpC__nEvgIB"
      },
      "execution_count": null,
      "outputs": []
    },
    {
      "cell_type": "markdown",
      "source": [
        "\n",
        "*   OBJETOS\n",
        "\n"
      ],
      "metadata": {
        "id": "dZiT3cxivtAg"
      }
    },
    {
      "cell_type": "code",
      "source": [
        "#instanciar la clase Calculadora, para crear el objeto a partir de la clase.\n",
        "objCalculadora = Calculadora()\n",
        "num1 = float(input(\"Num 1: \"))\n",
        "num2 = float(input(\"Num 2: \"))\n",
        "print(\"Suma: \", objCalculadora.sumar(num1, num2))"
      ],
      "metadata": {
        "id": "KIyMLQDyv2qw"
      },
      "execution_count": null,
      "outputs": []
    },
    {
      "cell_type": "markdown",
      "source": [
        "**EJERCICIO** Escriba un programa que lea una serie de numeros introducidos por el usuario, y determine la media aritmetica."
      ],
      "metadata": {
        "id": "do3KgpQhv7Uf"
      }
    },
    {
      "cell_type": "code",
      "source": [
        "from math import sqrt\n",
        "\n",
        "class estadistica:\n",
        "  def media(self, serie):\n",
        "    suma = 0\n",
        "    for num in serie:\n",
        "      suma += num\n",
        "    return suma/len(serie)\n",
        "\n",
        "  def tipica(self, serie):\n",
        "    media = self.media(serie)\n",
        "    suma = 0\n",
        "    for num in serie:\n",
        "      suma += (num-media)**2\n",
        "    return sqrt(suma/len(serie))\n",
        ""
      ],
      "metadata": {
        "id": "E2k51KFKwCj9"
      },
      "execution_count": null,
      "outputs": []
    },
    {
      "cell_type": "code",
      "source": [
        "n = int(input(\"Cuantos numeros va a ingresar: \"))\n",
        "serie = []\n",
        "for num in range(1,n+1):\n",
        "  serie.append(int(input(\"Num: \")))\n",
        "\n",
        "objEstadistica = estadistica()\n",
        "print(\"La media es: \", objEstadistica.media(serie))\n",
        "\n",
        "print(\"La desviacion tipica es: \", round(objEstadistica.tipica(serie),3) )"
      ],
      "metadata": {
        "id": "iCynLXabwHCh"
      },
      "execution_count": null,
      "outputs": []
    },
    {
      "cell_type": "markdown",
      "metadata": {
        "id": "4JfxYYz9y-jL"
      },
      "source": [
        "Ejercicios evaluados: calcular sobre el suelo las deducciones por la ley ISSS (3%), AFP(6.25%), ISR(Segun tabla) e imprima el total deducciones y sueldo neto. (20%)"
      ]
    },
    {
      "cell_type": "code",
      "execution_count": null,
      "metadata": {
        "colab": {
          "base_uri": "https://localhost:8080/"
        },
        "id": "Ah9acAW5z44s",
        "outputId": "eede88f0-3acf-4f8f-ecff-cb0d6f1cd339"
      },
      "outputs": [
        {
          "output_type": "stream",
          "name": "stdout",
          "text": [
            "Ingrese su sueldo bruto: $800\n",
            "\n",
            "Elija el tipo de resultado que desea ver:\n",
            "1. Solo Total Deducciones\n",
            "2. Solo Sueldo Neto\n",
            "3. Ambos\n",
            "Ingrese el número de la opción que desea: 3\n",
            "Sueldo Bruto: $800.00\n",
            "ISSS (3%): $24.00\n",
            "AFP (6.25%): $50.00\n",
            "ISR: $50.47\n",
            "Total Deducciones: $124.47\n",
            "Sueldo Neto: $675.53\n"
          ]
        }
      ],
      "source": [
        "def calcular_deducciones_y_sueldo_neto(sueldo_bruto):\n",
        "    # Deducciones\n",
        "    isss = sueldo_bruto * 0.03\n",
        "    afp = sueldo_bruto * 0.0625\n",
        "\n",
        "    if sueldo_bruto <= 472.00:\n",
        "        isr = 0.0\n",
        "    elif sueldo_bruto <= 895.24:\n",
        "        isr = (sueldo_bruto - 472.00) * 0.10 + 17.67\n",
        "    elif sueldo_bruto <= 2038.10:\n",
        "        isr = (sueldo_bruto - 895.24) * 0.20 + 60.00\n",
        "    else:\n",
        "        isr = (sueldo_bruto - 2038.10) * 0.30 + 288.57\n",
        "\n",
        "    total_deducciones = isss + afp + isr\n",
        "\n",
        "    sueldo_neto = sueldo_bruto - total_deducciones\n",
        "\n",
        "    return isss, afp, isr, total_deducciones, sueldo_neto\n",
        "\n",
        "def imprimir_resultados(sueldo_bruto, opcion):\n",
        "    isss, afp, isr, total_deducciones, sueldo_neto = calcular_deducciones_y_sueldo_neto(sueldo_bruto)\n",
        "\n",
        "    if opcion == \"1\":\n",
        "        print(f\"Total Deducciones: ${total_deducciones:.2f}\")\n",
        "    elif opcion == \"2\":\n",
        "        print(f\"Sueldo Neto: ${sueldo_neto:.2f}\")\n",
        "    elif opcion == \"3\":\n",
        "        print(f\"Sueldo Bruto: ${sueldo_bruto:.2f}\")\n",
        "        print(f\"ISSS (3%): ${isss:.2f}\")\n",
        "        print(f\"AFP (6.25%): ${afp:.2f}\")\n",
        "        print(f\"ISR: ${isr:.2f}\")\n",
        "        print(f\"Total Deducciones: ${total_deducciones:.2f}\")\n",
        "        print(f\"Sueldo Neto: ${sueldo_neto:.2f}\")\n",
        "    else:\n",
        "        print(\"Opción no válida.\")\n",
        "\n",
        "try:\n",
        "    sueldo_bruto = float(input(\"Ingrese su sueldo bruto: $\"))\n",
        "\n",
        "    print(\"\\nElija el tipo de resultado que desea ver:\")\n",
        "    print(\"1. Solo Total Deducciones\")\n",
        "    print(\"2. Solo Sueldo Neto\")\n",
        "    print(\"3. Ambos\")\n",
        "\n",
        "    opcion = input(\"Ingrese el número de la opción que desea: \")\n",
        "\n",
        "    imprimir_resultados(sueldo_bruto, opcion)\n",
        "\n",
        "except ValueError:\n",
        "    print(\"Por favor, ingrese un valor numérico válido.\")"
      ]
    },
    {
      "cell_type": "markdown",
      "metadata": {
        "id": "rKzBygfZ0dpE"
      },
      "source": [
        "Calcular el valor a pagar segun el numero de metros consumidos de agua potable (Ver tabla en la siguiente diapositiva)."
      ]
    },
    {
      "cell_type": "code",
      "execution_count": null,
      "metadata": {
        "colab": {
          "base_uri": "https://localhost:8080/"
        },
        "id": "dqlz_dmU06Wu",
        "outputId": "bb80545c-ae24-48ba-bc67-f7464c00f6b5"
      },
      "outputs": [
        {
          "output_type": "stream",
          "name": "stdout",
          "text": [
            "Ingrese el consumo de agua en metros cúbicos: 30\n",
            "Valor a pagar por 30 metros cúbicos consumidos: $11.80\n"
          ]
        }
      ],
      "source": [
        "def calcular_valor_a_pagar(consumo):\n",
        "\n",
        "    cuota_fija = 6.00\n",
        "\n",
        "    if consumo <= 18:\n",
        "        valor_a_pagar = cuota_fija\n",
        "    elif consumo <= 28:\n",
        "        exceso = consumo - 18\n",
        "        valor_a_pagar = cuota_fija + (exceso * 0.45)\n",
        "    else:\n",
        "        exceso_1 = 28 - 18\n",
        "        exceso_2 = consumo - 28\n",
        "        valor_a_pagar = cuota_fija + (exceso_1 * 0.45) + (exceso_2 * 0.65)\n",
        "\n",
        "    return valor_a_pagar\n",
        "\n",
        "try:\n",
        "    consumo = int(input(\"Ingrese el consumo de agua en metros cúbicos: \"))\n",
        "\n",
        "    valor_a_pagar = calcular_valor_a_pagar(consumo)\n",
        "\n",
        "    print(f\"Valor a pagar por {consumo} metros cúbicos consumidos: ${valor_a_pagar:.2f}\")\n",
        "\n",
        "except ValueError:\n",
        "    print(\"Por favor, ingrese un valor numérico válido.\")"
      ]
    },
    {
      "cell_type": "markdown",
      "metadata": {
        "id": "1E6nakah1c-j"
      },
      "source": [
        "Desarrolla la tabla de meses acumulados a n meses. Si puede encontrar la formula matematica para evitar ciclos. (10%)"
      ]
    },
    {
      "cell_type": "code",
      "execution_count": null,
      "metadata": {
        "colab": {
          "base_uri": "https://localhost:8080/"
        },
        "id": "ty8CitDf1yVh",
        "outputId": "c044c1da-c018-4ea6-c2f5-7ad6e3fb07b9"
      },
      "outputs": [
        {
          "output_type": "stream",
          "name": "stdout",
          "text": [
            "Ingrese el número del mes que desea consultar: 2\n",
            "\n",
            "MES: 2\n",
            "ACUMULACIÓN: 3\n"
          ]
        }
      ],
      "source": [
        "def acumulacion_mes(n):\n",
        "    return n * (n + 1) // 2\n",
        "\n",
        "try:\n",
        "    mes = int(input(\"Ingrese el número del mes que desea consultar: \"))\n",
        "\n",
        "    acumulacion = acumulacion_mes(mes)\n",
        "    print(f\"\\nMES: {mes}\\nACUMULACIÓN: {acumulacion}\")\n",
        "\n",
        "except ValueError:\n",
        "    print(\"Por favor, ingrese un valor numérico válido.\")"
      ]
    },
    {
      "cell_type": "markdown",
      "metadata": {
        "id": "siOx1ykT2ALv"
      },
      "source": [
        "Conversores: (40%) (10 item como minimo por cada uno)\n",
        "\n",
        "*   Moneda\n",
        "*   Longitud\n",
        "*   Masa\n",
        "*   Almacenamiento\n",
        "*   Tiempo\n",
        "*   Volumen\n",
        "*   Area\n",
        "\n",
        "\n",
        "\n",
        "\n",
        "\n",
        "\n",
        "\n",
        "\n",
        "\n",
        "\n",
        "\n",
        "\n",
        "\n",
        "\n"
      ]
    },
    {
      "cell_type": "code",
      "execution_count": null,
      "metadata": {
        "colab": {
          "base_uri": "https://localhost:8080/"
        },
        "id": "7FMjQOOq3pJl",
        "outputId": "bb327de9-7de8-49b6-bae4-b479354443e3"
      },
      "outputs": [
        {
          "output_type": "stream",
          "name": "stdout",
          "text": [
            "\n",
            "Seleccione el tipo de conversión que desea realizar:\n",
            "1. Longitud\n",
            "2. Masa\n",
            "3. Almacenamiento\n",
            "4. Tiempo\n",
            "5. Volumen\n",
            "6. Área\n"
          ]
        }
      ],
      "source": [
        "def convertir_longitud(valor, desde, hacia):\n",
        "    conversiones = {\n",
        "        'metros': 1,\n",
        "        'kilometros': 0.001,\n",
        "        'centimetros': 100,\n",
        "        'milimetros': 1000,\n",
        "        'millas': 0.000621371,\n",
        "        'yardas': 1.09361,\n",
        "        'pies': 3.28084,\n",
        "        'pulgadas': 39.3701,\n",
        "        'nanometros': 1e9,\n",
        "        'micrometros': 1e6\n",
        "    }\n",
        "    return valor * conversiones[hacia] / conversiones[desde]\n",
        "\n",
        "def convertir_masa(valor, desde, hacia):\n",
        "    conversiones = {\n",
        "        'gramos': 1,\n",
        "        'kilogramos': 0.001,\n",
        "        'miligramos': 1000,\n",
        "        'toneladas': 1e-6,\n",
        "        'libras': 0.00220462,\n",
        "        'onzas': 0.035274,\n",
        "        'microgramos': 1e6,\n",
        "        'nanogramos': 1e9,\n",
        "        'stone': 0.000157473,\n",
        "        'quilates': 5\n",
        "    }\n",
        "    return valor * conversiones[hacia] / conversiones[desde]\n",
        "\n",
        "def convertir_almacenamiento(valor, desde, hacia):\n",
        "    conversiones = {\n",
        "        'bytes': 1,\n",
        "        'kilobytes': 1 / 1024,\n",
        "        'megabytes': 1 / (1024 ** 2),\n",
        "        'gigabytes': 1 / (1024 ** 3),\n",
        "        'terabytes': 1 / (1024 ** 4),\n",
        "        'petabytes': 1 / (1024 ** 5),\n",
        "        'bits': 8,\n",
        "        'kilobits': 8 / 1024,\n",
        "        'megabits': 8 / (1024 ** 2),\n",
        "        'gigabits': 8 / (1024 ** 3)\n",
        "    }\n",
        "    return valor * conversiones[hacia] / conversiones[desde]\n",
        "\n",
        "def convertir_tiempo(valor, desde, hacia):\n",
        "    conversiones = {\n",
        "        'segundos': 1,\n",
        "        'minutos': 1 / 60,\n",
        "        'horas': 1 / 3600,\n",
        "        'dias': 1 / 86400,\n",
        "        'semanas': 1 / 604800,\n",
        "        'meses': 1 / (30.44 * 86400),\n",
        "        'años': 1 / (365.25 * 86400),\n",
        "        'milisegundos': 1000,\n",
        "        'microsegundos': 1e6,\n",
        "        'nanosegundos': 1e9\n",
        "    }\n",
        "    return valor * conversiones[hacia] / conversiones[desde]\n",
        "\n",
        "def convertir_volumen(valor, desde, hacia):\n",
        "    conversiones = {\n",
        "        'litros': 1,\n",
        "        'mililitros': 1000,\n",
        "        'centimetros_cubicos': 1000,\n",
        "        'metros_cubicos': 0.001,\n",
        "        'galones': 0.264172,\n",
        "        'pintas': 2.11338,\n",
        "        'onzas_fluidas': 33.814,\n",
        "        'barriles': 0.00628981,\n",
        "        'cups': 4.22675,\n",
        "        'cuartos': 1.05669\n",
        "    }\n",
        "    return valor * conversiones[hacia] / conversiones[desde]\n",
        "\n",
        "def convertir_area(valor, desde, hacia):\n",
        "    conversiones = {\n",
        "        'metros_cuadrados': 1,\n",
        "        'kilometros_cuadrados': 1e-6,\n",
        "        'centimetros_cuadrados': 10000,\n",
        "        'milimetros_cuadrados': 1e6,\n",
        "        'hectareas': 1e-4,\n",
        "        'acres': 0.000247105,\n",
        "        'pies_cuadrados': 10.7639,\n",
        "        'yardas_cuadradas': 1.19599,\n",
        "        'pulgadas_cuadradas': 1550.0031,\n",
        "        'millas_cuadradas': 3.861e-7\n",
        "    }\n",
        "    return valor * conversiones[hacia] / conversiones[desde]\n",
        "\n",
        "def menu():\n",
        "    print(\"\\nSeleccione el tipo de conversión que desea realizar:\")\n",
        "    print(\"1. Longitud\")\n",
        "    print(\"2. Masa\")\n",
        "    print(\"3. Almacenamiento\")\n",
        "    print(\"4. Tiempo\")\n",
        "    print(\"5. Volumen\")\n",
        "    print(\"6. Área\")\n",
        "\n",
        "    return input(\"\\nIngrese el número de la opción elegida: \")\n",
        "\n",
        "def seleccionar_unidades(tipo):\n",
        "    if tipo == \"1\":\n",
        "        print(\"\\nSeleccione la unidad de origen y destino:\")\n",
        "        unidades = ['metros', 'kilometros', 'centimetros', 'milimetros', 'millas', 'yardas', 'pies', 'pulgadas', 'nanometros', 'micrometros']\n",
        "    elif tipo == \"2\":\n",
        "        unidades = ['gramos', 'kilogramos', 'miligramos', 'toneladas', 'libras', 'onzas', 'microgramos', 'nanogramos', 'stone', 'quilates']\n",
        "    elif tipo == \"3\":\n",
        "        unidades = ['bytes', 'kilobytes', 'megabytes', 'gigabytes', 'terabytes', 'petabytes', 'bits', 'kilobits', 'megabits', 'gigabits']\n",
        "    elif tipo == \"4\":\n",
        "        unidades = ['segundos', 'minutos', 'horas', 'dias', 'semanas', 'meses', 'años', 'milisegundos', 'microsegundos', 'nanosegundos']\n",
        "    elif tipo == \"5\":\n",
        "        unidades = ['litros', 'mililitros', 'centimetros_cubicos', 'metros_cubicos', 'galones', 'pintas', 'onzas_fluidas', 'barriles', 'cups', 'cuartos']\n",
        "    elif tipo == \"6\":\n",
        "        unidades = ['metros_cuadrados', 'kilometros_cuadrados', 'centimetros_cuadrados', 'milimetros_cuadrados', 'hectareas', 'acres', 'pies_cuadrados', 'yardas_cuadradas', 'pulgadas_cuadradas', 'millas_cuadradas']\n",
        "    else:\n",
        "        unidades = []\n",
        "\n",
        "    for i, unidad in enumerate(unidades):\n",
        "        print(f\"{i + 1}. {unidad}\")\n",
        "\n",
        "    desde = int(input(\"\\nSeleccione la unidad de origen: \")) - 1\n",
        "    hacia = int(input(\"Seleccione la unidad de destino: \")) - 1\n",
        "\n",
        "    return unidades[desde], unidades[hacia]\n",
        "\n",
        "try:\n",
        "    tipo_conversion = menu()\n",
        "    unidad_origen, unidad_destino = seleccionar_unidades(tipo_conversion)\n",
        "    valor = float(input(\"\\nIngrese el valor a convertir: \"))\n",
        "\n",
        "    if tipo_conversion == \"1\":\n",
        "        resultado = convertir_longitud(valor, unidad_origen, unidad_destino)\n",
        "    elif tipo_conversion == \"2\":\n",
        "        resultado = convertir_masa(valor, unidad_origen, unidad_destino)\n",
        "    elif tipo_conversion == \"3\":\n",
        "        resultado = convertir_almacenamiento(valor, unidad_origen, unidad_destino)\n",
        "    elif tipo_conversion == \"4\":\n",
        "        resultado = convertir_tiempo(valor, unidad_origen, unidad_destino)\n",
        "    elif tipo_conversion == \"5\":\n",
        "        resultado = convertir_volumen(valor, unidad_origen, unidad_destino)\n",
        "    elif tipo_conversion == \"6\":\n",
        "        resultado = convertir_area(valor, unidad_origen, unidad_destino)\n",
        "    else:\n",
        "        print(\"Tipo de conversión no válido.\")\n",
        "        resultado = None\n",
        "\n",
        "    if resultado is not None:\n",
        "        print(f\"\\n{valor} {unidad_origen} son equivalentes a {resultado:.6f} {unidad_destino}\")\n",
        "\n",
        "except ValueError:\n",
        "    print(\"Por favor, ingrese valores numéricos válidos.\")\n"
      ]
    },
    {
      "cell_type": "markdown",
      "metadata": {
        "id": "Ftlcw0oV4p7h"
      },
      "source": [
        "Realizar un conversor propio, donde especifiqué el valor de conversión: (10%)\n",
        "\n",
        "\n",
        "\n",
        "*   1 caja -> 25 unidad. Viceversa 80 unidades - 3/5 -> cajas/unidades\n",
        "*   1 saco -> 50 libras. Viceversa 130 libras - 2/30 -> sacos/libras\n",
        "*   1 fardo -> 5 unidades. Viceversa 28 unidades - 5/3 -> fardos/unidades"
      ]
    },
    {
      "cell_type": "code",
      "execution_count": null,
      "metadata": {
        "id": "Xd0cODqj5L_D"
      },
      "outputs": [],
      "source": [
        "def convertir_cajas_unidades(unidades):\n",
        "    cajas = unidades // 25\n",
        "    sobrante = unidades % 25\n",
        "    return cajas, sobrante\n",
        "\n",
        "def convertir_unidades_cajas(cajas):\n",
        "    return cajas * 25\n",
        "\n",
        "def convertir_sacos_libras(libras):\n",
        "    sacos = libras // 50\n",
        "    sobrante = libras % 50\n",
        "    return sacos, sobrante\n",
        "\n",
        "def convertir_libras_sacos(sacos):\n",
        "    return sacos * 50\n",
        "\n",
        "def convertir_fardos_unidades(unidades):\n",
        "    fardos = unidades // 5\n",
        "    sobrante = unidades % 5\n",
        "    return fardos, sobrante\n",
        "\n",
        "def convertir_unidades_fardos(fardos):\n",
        "    return fardos * 5"
      ]
    },
    {
      "cell_type": "code",
      "execution_count": null,
      "metadata": {
        "colab": {
          "base_uri": "https://localhost:8080/"
        },
        "id": "rmYTcfSic36q",
        "outputId": "a29d3076-51fb-497d-c93d-9667fac46b85"
      },
      "outputs": [
        {
          "output_type": "stream",
          "name": "stdout",
          "text": [
            "Selecciona la conversión que deseas realizar:\n",
            "1. Unidades a Cajas\n",
            "2. Cajas a Unidades\n",
            "3. Libras a Sacos\n",
            "4. Sacos a Libras\n",
            "5. Unidades a Fardos\n",
            "6. Fardos a Unidades\n",
            "Introduce el número de la conversión que deseas realizar: 1\n",
            "Introduce el número de unidades: 125\n",
            "125 unidades son equivalentes a 5 cajas y 0 unidades.\n"
          ]
        }
      ],
      "source": [
        "def mostrar_menu():\n",
        "    print(\"Selecciona la conversión que deseas realizar:\")\n",
        "    print(\"1. Unidades a Cajas\")\n",
        "    print(\"2. Cajas a Unidades\")\n",
        "    print(\"3. Libras a Sacos\")\n",
        "    print(\"4. Sacos a Libras\")\n",
        "    print(\"5. Unidades a Fardos\")\n",
        "    print(\"6. Fardos a Unidades\")\n",
        "\n",
        "    opcion = int(input(\"Introduce el número de la conversión que deseas realizar: \"))\n",
        "    return opcion\n",
        "\n",
        "def realizar_conversion(opcion):\n",
        "    if opcion == 1:\n",
        "        unidades = int(input(\"Introduce el número de unidades: \"))\n",
        "        cajas, sobrante = convertir_cajas_unidades(unidades)\n",
        "        print(f\"{unidades} unidades son equivalentes a {cajas} cajas y {sobrante} unidades.\")\n",
        "\n",
        "    elif opcion == 2:\n",
        "        cajas = int(input(\"Introduce el número de cajas: \"))\n",
        "        unidades = convertir_unidades_cajas(cajas)\n",
        "        print(f\"{cajas} cajas son equivalentes a {unidades} unidades.\")\n",
        "\n",
        "    elif opcion == 3:\n",
        "        libras = int(input(\"Introduce el número de libras: \"))\n",
        "        sacos, sobrante = convertir_sacos_libras(libras)\n",
        "        print(f\"{libras} libras son equivalentes a {sacos} sacos y {sobrante} libras.\")\n",
        "\n",
        "    elif opcion == 4:\n",
        "        sacos = int(input(\"Introduce el número de sacos: \"))\n",
        "        libras = convertir_libras_sacos(sacos)\n",
        "        print(f\"{sacos} sacos son equivalentes a {libras} libras.\")\n",
        "\n",
        "    elif opcion == 5:\n",
        "        unidades = int(input(\"Introduce el número de unidades: \"))\n",
        "        fardos, sobrante = convertir_fardos_unidades(unidades)\n",
        "        print(f\"{unidades} unidades son equivalentes a {fardos} fardos y {sobrante} unidades.\")\n",
        "\n",
        "    elif opcion == 6:\n",
        "        fardos = int(input(\"Introduce el número de fardos: \"))\n",
        "        unidades = convertir_unidades_fardos(fardos)\n",
        "        print(f\"{fardos} fardos son equivalentes a {unidades} unidades.\")\n",
        "\n",
        "    else:\n",
        "        print(\"Opción no válida.\")\n",
        "        return\n",
        "\n",
        "opcion = mostrar_menu()\n",
        "realizar_conversion(opcion)"
      ]
    },
    {
      "cell_type": "markdown",
      "source": [
        "TAREA:\n",
        "\n",
        "*   Encontrar de una serie de numeros introducidos por el usuario la varianza\n",
        "*   Encontrar de una serie de numeros introducidos por el usuario la frecuencuia\n",
        "*   Escriba un programa que determine si una palabra introducida por el usuario es palindrome. Ejem. Ana, Oso, Oro, Reconocer, etc.\n",
        "\n"
      ],
      "metadata": {
        "id": "pl5JXd-xqx8s"
      }
    },
    {
      "cell_type": "markdown",
      "source": [
        "Encontrar de una serie de numeros introducidos por el usuario la varianza"
      ],
      "metadata": {
        "id": "-0qD0oCmrglO"
      }
    },
    {
      "cell_type": "code",
      "source": [
        "from math import sqrt\n",
        "\n",
        "class estadistica:\n",
        "    def media(self, serie):\n",
        "        suma = 0\n",
        "        for num in serie:\n",
        "            suma += num\n",
        "        return suma / len(serie)\n",
        "\n",
        "    def tipica(self, serie):\n",
        "        media = self.media(serie)\n",
        "        suma = 0\n",
        "        for num in serie:\n",
        "            suma += (num - media) ** 2\n",
        "        return sqrt(suma / len(serie))\n",
        "\n",
        "    def varianza(self, serie):\n",
        "        media = self.media(serie)\n",
        "        suma = 0\n",
        "        for num in serie:\n",
        "            suma += (num - media) ** 2\n",
        "        return suma / len(serie)\n",
        "\n",
        "n = int(input(\"Cuantos numeros va a ingresar: \"))\n",
        "serie = []\n",
        "for num in range(1, n + 1):\n",
        "    serie.append(int(input(\"Num: \")))\n",
        "\n",
        "objEstadistica = estadistica()\n",
        "print(\"La media es: \", objEstadistica.media(serie))\n",
        "print(\"La desviacion tipica es: \", round(objEstadistica.tipica(serie), 3))\n",
        "print(\"La varianza es: \", round(objEstadistica.varianza(serie), 3))"
      ],
      "metadata": {
        "colab": {
          "base_uri": "https://localhost:8080/"
        },
        "id": "TXSZD8TgqzS1",
        "outputId": "561336ca-cbd9-4a13-fe85-1b277839e229"
      },
      "execution_count": null,
      "outputs": [
        {
          "output_type": "stream",
          "name": "stdout",
          "text": [
            "Cuantos numeros va a ingresar: 1\n",
            "Num: 1\n",
            "La media es:  1.0\n",
            "La desviacion tipica es:  0.0\n",
            "La varianza es:  0.0\n"
          ]
        }
      ]
    },
    {
      "cell_type": "markdown",
      "source": [
        "Encontrar de una serie de numeros introducidos por el usuario la frecuencuia"
      ],
      "metadata": {
        "id": "s11Zr5SPsV33"
      }
    },
    {
      "cell_type": "code",
      "source": [
        "from collections import Counter\n",
        "\n",
        "def calcular_frecuencias():\n",
        "    numeros = input(\"Ingrese una serie de números separados por espacios: \").split()\n",
        "    numeros = [int(n) for n in numeros]\n",
        "\n",
        "    frecuencias_absolutas = Counter(numeros)\n",
        "\n",
        "    total_elementos = len(numeros)\n",
        "    frecuencias_relativas = {num: freq / total_elementos for num, freq in frecuencias_absolutas.items()}\n",
        "\n",
        "    print(\"\\nFrecuencia absoluta:\")\n",
        "    for num, freq in frecuencias_absolutas.items():\n",
        "        print(f\"{num}: {freq} veces\")\n",
        "\n",
        "    print(\"\\nFrecuencia relativa:\")\n",
        "    for num, freq in frecuencias_relativas.items():\n",
        "        print(f\"{num}: {freq:.2f}\")\n",
        "\n",
        "# Ejecutar la función\n",
        "calcular_frecuencias()"
      ],
      "metadata": {
        "colab": {
          "base_uri": "https://localhost:8080/"
        },
        "id": "gG7_78l3sUw3",
        "outputId": "d6065f59-749a-41a3-9fdc-a2e9eb3c08bf"
      },
      "execution_count": null,
      "outputs": [
        {
          "output_type": "stream",
          "name": "stdout",
          "text": [
            "Ingrese una serie de números separados por espacios: 1 2 3 4 5\n",
            "\n",
            "Frecuencia absoluta:\n",
            "1: 1 veces\n",
            "2: 1 veces\n",
            "3: 1 veces\n",
            "4: 1 veces\n",
            "5: 1 veces\n",
            "\n",
            "Frecuencia relativa:\n",
            "1: 0.20\n",
            "2: 0.20\n",
            "3: 0.20\n",
            "4: 0.20\n",
            "5: 0.20\n"
          ]
        }
      ]
    },
    {
      "cell_type": "markdown",
      "source": [
        "Escriba un programa que determine si una palabra introducida por el usuario es palindrome. Ejem. Ana, Oso, Oro, Reconocer, etc."
      ],
      "metadata": {
        "id": "QO4mwSPtrjDn"
      }
    },
    {
      "cell_type": "code",
      "source": [
        "Palindromo= input(\"ingrese la palabra : \")\n",
        "if Palindromo == Palindromo[::-1]:\n",
        " print(\"Es palindromo\")\n",
        "else:\n",
        " print(\"No es palindromo\")"
      ],
      "metadata": {
        "colab": {
          "base_uri": "https://localhost:8080/"
        },
        "id": "xvJhFlyrr5ym",
        "outputId": "166c991a-4022-4d7b-cc6f-51c6db6db8fb"
      },
      "execution_count": null,
      "outputs": [
        {
          "output_type": "stream",
          "name": "stdout",
          "text": [
            "ingrese la palabra : goku\n",
            "No es palindromo\n"
          ]
        }
      ]
    }
  ],
  "metadata": {
    "colab": {
      "provenance": [],
      "include_colab_link": true
    },
    "kernelspec": {
      "display_name": "Python 3",
      "name": "python3"
    },
    "language_info": {
      "name": "python"
    }
  },
  "nbformat": 4,
  "nbformat_minor": 0
}