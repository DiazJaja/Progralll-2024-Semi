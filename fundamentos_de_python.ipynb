{
  "nbformat": 4,
  "nbformat_minor": 0,
  "metadata": {
    "colab": {
      "provenance": [],
      "include_colab_link": true
    },
    "kernelspec": {
      "name": "python3",
      "display_name": "Python 3"
    },
    "language_info": {
      "name": "python"
    }
  },
  "cells": [
    {
      "cell_type": "markdown",
      "metadata": {
        "id": "view-in-github",
        "colab_type": "text"
      },
      "source": [
        "<a href=\"https://colab.research.google.com/github/DiazJaja/Progralll-2024-Semi/blob/main/fundamentos_de_python.ipynb\" target=\"_parent\"><img src=\"https://colab.research.google.com/assets/colab-badge.svg\" alt=\"Open In Colab\"/></a>"
      ]
    },
    {
      "cell_type": "code",
      "execution_count": null,
      "metadata": {
        "colab": {
          "base_uri": "https://localhost:8080/"
        },
        "id": "PzVHx0b84XtH",
        "outputId": "205f63eb-098c-45a9-d3a5-e2a1e21c7c9b"
      },
      "outputs": [
        {
          "output_type": "stream",
          "name": "stdout",
          "text": [
            "Hola Mundo\n",
            "Hola  Juan Díaz , inicial:  J D\n"
          ]
        }
      ],
      "source": [
        "print(\"Hola Mundo\")\n",
        "nombre = \"Juan Díaz\"\n",
        "\n",
        "print(\"Hola \", nombre, \", inicial: \", nombre[0], nombre[5])"
      ]
    },
    {
      "cell_type": "markdown",
      "source": [
        "Ejercicio: Crear un programa en python que sume dos numeros"
      ],
      "metadata": {
        "id": "vC2ApDWa9azl"
      }
    },
    {
      "cell_type": "code",
      "source": [
        "num1 = 5\n",
        "num2 = 9.5\n",
        "resp = num1 + num2\n",
        "print(\"La suma es: \", resp)"
      ],
      "metadata": {
        "colab": {
          "base_uri": "https://localhost:8080/"
        },
        "collapsed": true,
        "id": "0wDU3eVY9YmH",
        "outputId": "fa4745ac-236f-4e46-c965-be2fe44ee75b"
      },
      "execution_count": null,
      "outputs": [
        {
          "output_type": "stream",
          "name": "stdout",
          "text": [
            "La suma es:  14.5\n"
          ]
        }
      ]
    },
    {
      "cell_type": "code",
      "source": [
        "print(\"Num 1\")\n",
        "num1 = int(input())\n",
        "\n",
        "print(\"Num 2\")\n",
        "num2 = float(input())\n",
        "\n",
        "resp = num1 + num2\n",
        "print(\"La suma es: \", resp)"
      ],
      "metadata": {
        "colab": {
          "base_uri": "https://localhost:8080/"
        },
        "collapsed": true,
        "id": "T-kwnzpK_PRy",
        "outputId": "e650cd4f-b7f9-4724-925d-0a67b1a18b8a"
      },
      "execution_count": null,
      "outputs": [
        {
          "output_type": "stream",
          "name": "stdout",
          "text": [
            "Num 1\n",
            "9\n",
            "Num 2\n",
            "4.5\n",
            "La suma es:  13.5\n"
          ]
        }
      ]
    },
    {
      "cell_type": "markdown",
      "source": [
        "Ejercicio: Crear un programa en python que sume dos numeros introducidos por el usuario"
      ],
      "metadata": {
        "id": "b8S121Ho_Lki"
      }
    },
    {
      "cell_type": "code",
      "source": [
        "#Tipos de datos\n",
        "num1 = 5 #entero\n",
        "num2 = 5.9 #decimal\n",
        "nombre = \"Juan Díaz\" #cadenas\n",
        "print(nombre, nombre[0:4], nombre[:4], nombre[-1], nombre[5:len(nombre)])\n",
        "\n",
        "estado = True\n",
        "print(estado)\n",
        "\n",
        "print(type(nombre), type(num1), type(num2), type(estado) )"
      ],
      "metadata": {
        "colab": {
          "base_uri": "https://localhost:8080/"
        },
        "id": "69PAT39UB-nE",
        "outputId": "7d6c92fa-c027-4fce-d3ae-cdf496be9295"
      },
      "execution_count": null,
      "outputs": [
        {
          "output_type": "stream",
          "name": "stdout",
          "text": [
            "Juan Díaz Juan Juan z Díaz\n",
            "True\n",
            "<class 'str'> <class 'int'> <class 'float'> <class 'bool'>\n"
          ]
        }
      ]
    },
    {
      "cell_type": "markdown",
      "source": [
        "Ejercicio: Cree un programa en python que lea un numero y determine si es par o impar."
      ],
      "metadata": {
        "id": "lihtLjRaEeEx"
      }
    },
    {
      "cell_type": "code",
      "source": [
        "num = int(input(\"ingrese un numero:\"))\n",
        "if num % 2 == 0:\n",
        "  print(\"El numero es par\", num)\n",
        "else:\n",
        "  print(\"El numero es impar\")"
      ],
      "metadata": {
        "colab": {
          "base_uri": "https://localhost:8080/"
        },
        "id": "LVNyrfuNEcva",
        "outputId": "cf93dc09-6f3c-49b6-9edf-cb8724edb937"
      },
      "execution_count": null,
      "outputs": [
        {
          "output_type": "stream",
          "name": "stdout",
          "text": [
            "ingrese un numero:5\n",
            "El numero es impar\n"
          ]
        }
      ]
    },
    {
      "cell_type": "markdown",
      "source": [
        "Ejercicio: Uso de las funciones de usuario, con la suma de dos numeros."
      ],
      "metadata": {
        "id": "00sakHR4aZDs"
      }
    },
    {
      "cell_type": "code",
      "source": [
        "def suma(num1, num2):\n",
        "  return num1 + num2"
      ],
      "metadata": {
        "id": "sH6B5vi4a3MU"
      },
      "execution_count": null,
      "outputs": []
    },
    {
      "cell_type": "code",
      "source": [
        "num1 = float(input(\"Num 1: \"))\n",
        "num2 = float(input(\"Num 2: \"))\n",
        "\n",
        "resp = suma(num1, num2)\n",
        "print(\"La suma es: \", resp)"
      ],
      "metadata": {
        "collapsed": true,
        "id": "5PC9JrhSYDw1",
        "outputId": "c68fe106-438e-44f6-b7ce-be1398acda66",
        "colab": {
          "base_uri": "https://localhost:8080/"
        }
      },
      "execution_count": null,
      "outputs": [
        {
          "output_type": "stream",
          "name": "stdout",
          "text": [
            "Num 1: 5\n",
            "Num 2: 9\n",
            "La suma es:  14.0\n"
          ]
        }
      ]
    },
    {
      "cell_type": "markdown",
      "source": [
        "Ejercicio: Convertir grados celsius a farenheit, usando funciones de usuario."
      ],
      "metadata": {
        "id": "z3OfFQoebMOr"
      }
    },
    {
      "cell_type": "code",
      "source": [
        "def convertir_cf(c):\n",
        "  return c*1.8 + 32"
      ],
      "metadata": {
        "id": "j7upreb6bXEU"
      },
      "execution_count": null,
      "outputs": []
    },
    {
      "cell_type": "code",
      "source": [
        "c = float(input(\"Celsius: \"))\n",
        "print(\"F: \", convertir_cf(c))"
      ],
      "metadata": {
        "id": "2KD7p4dubpb6",
        "outputId": "59baa4e7-70cb-4068-a440-39f5b22933aa",
        "colab": {
          "base_uri": "https://localhost:8080/"
        }
      },
      "execution_count": null,
      "outputs": [
        {
          "output_type": "stream",
          "name": "stdout",
          "text": [
            "Celsius: 33\n",
            "F:  91.4\n"
          ]
        }
      ]
    },
    {
      "cell_type": "markdown",
      "source": [
        "Ejercicio: Determina si un numero es par o impar"
      ],
      "metadata": {
        "id": "4BsNf2AXfKNV"
      }
    },
    {
      "cell_type": "code",
      "source": [
        "def parImpar(num):\n",
        "  if(num%2==0):\n",
        "    return \"par\"\n",
        "  return \"impar\""
      ],
      "metadata": {
        "id": "LyMroWQRfHjt"
      },
      "execution_count": null,
      "outputs": []
    },
    {
      "cell_type": "code",
      "source": [
        "num = int(input(\"Num: \"))\n",
        "print(\"EL numero \", num, \" es: \", parImpar(num))"
      ],
      "metadata": {
        "id": "mt7ltqe2fv4n",
        "outputId": "f32178c2-30fc-48e0-c679-a326e02643c7",
        "colab": {
          "base_uri": "https://localhost:8080/"
        }
      },
      "execution_count": null,
      "outputs": [
        {
          "output_type": "stream",
          "name": "stdout",
          "text": [
            "Num: 9\n",
            "EL numero  9  es:  impar\n"
          ]
        }
      ]
    },
    {
      "cell_type": "markdown",
      "source": [
        "**TAREA (MIERCOLES):**\n",
        "1.   Convertir grados Farenheits a Celsius\n",
        "2.   Convertir grados [Celsius y Farenheit] a kelvin."
      ],
      "metadata": {
        "id": "0hcb_9QbhAFx"
      }
    },
    {
      "cell_type": "markdown",
      "source": [
        "Convertidor de grados Farenheits a Celsius."
      ],
      "metadata": {
        "id": "QlxycmTNT-Y4"
      }
    },
    {
      "cell_type": "code",
      "source": [
        "def fahrenheit_a_celsius(fahrenheit):\n",
        "    celsius = (fahrenheit - 32) * 5.0/9.0\n",
        "    return celsius\n",
        "\n",
        "grados_fahrenheit = float(input(\"Ingrese los grados Fahrenheit: \"))\n",
        "grados_celsius = fahrenheit_a_celsius(grados_fahrenheit)\n",
        "\n",
        "print(str(grados_fahrenheit) + \" grados Fahrenheit son \" + str(round(grados_celsius, 2)) + \" grados Celsius.\")"
      ],
      "metadata": {
        "colab": {
          "base_uri": "https://localhost:8080/"
        },
        "id": "lM3RSYXRTzJL",
        "outputId": "39ba15b7-6551-444b-ef80-97603983458d"
      },
      "execution_count": null,
      "outputs": [
        {
          "output_type": "stream",
          "name": "stdout",
          "text": [
            "Ingrese los grados Fahrenheit: 121\n",
            "121.0 grados Fahrenheit son 49.44 grados Celsius.\n"
          ]
        }
      ]
    },
    {
      "cell_type": "markdown",
      "source": [
        "Convertidor grados Celsius y Farenheit a kelvin."
      ],
      "metadata": {
        "id": "a4mT28uSUEoR"
      }
    },
    {
      "cell_type": "code",
      "source": [
        "def celsius_a_kelvin(celsius):\n",
        "    return celsius + 273.15\n",
        "\n",
        "def fahrenheit_a_kelvin(fahrenheit):\n",
        "    celsius = (fahrenheit - 32) * 5.0 / 9.0\n",
        "    return celsius + 273.15\n",
        "\n",
        "tipo = input(\"¿Desea convertir de Celsius (C) o Fahrenheit (F) a Kelvin? Ingrese C o F: \").strip().upper()\n",
        "\n",
        "if tipo == 'C':\n",
        "\n",
        "    grados_celsius = float(input(\"Ingrese los grados Celsius: \"))\n",
        "    kelvin = celsius_a_kelvin(grados_celsius)\n",
        "\n",
        "    print(str(grados_celsius) + \" grados Celsius son \" + str(round(kelvin, 2)) + \" Kelvin.\")\n",
        "\n",
        "elif tipo == 'F':\n",
        "\n",
        "    grados_fahrenheit = float(input(\"Ingrese los grados Fahrenheit: \"))\n",
        "    kelvin = fahrenheit_a_kelvin(grados_fahrenheit)\n",
        "\n",
        "    print(str(grados_fahrenheit) + \" grados Fahrenheit son \" + str(round(kelvin, 2)) + \" Kelvin.\")\n",
        "\n",
        "else:\n",
        "\n",
        "    print(\"Opción no válida. Por favor ingrese C o F.\")"
      ],
      "metadata": {
        "colab": {
          "base_uri": "https://localhost:8080/"
        },
        "id": "8FoLdKjnULcs",
        "outputId": "9aa7b890-238c-4b62-9c75-af073bb5044d"
      },
      "execution_count": null,
      "outputs": [
        {
          "output_type": "stream",
          "name": "stdout",
          "text": [
            "¿Desea convertir de Celsius (C) o Fahrenheit (F) a Kelvin? Ingrese C o F: c\n",
            "Ingrese los grados Celsius: 121\n",
            "121.0 grados Celsius son 394.15 Kelvin.\n"
          ]
        }
      ]
    },
    {
      "cell_type": "markdown",
      "source": [
        "Ejercicio: Calcular el sueldo de un trabajador."
      ],
      "metadata": {
        "id": "S7i1B0W1hppG"
      }
    },
    {
      "cell_type": "code",
      "source": [
        "def sueldo(numHrs, valorXHrs):\n",
        "  sueldo = numHrs * valorXHrs * 30 # 10*1.5*30 = 450\n",
        "  if(numHrs>8):\n",
        "    sueldo = sueldo + (numHrs-8) * valorXHrs * 30 # 2*1.5*30 = 90\n",
        "  return sueldo"
      ],
      "metadata": {
        "id": "FXdQ_105hfId"
      },
      "execution_count": null,
      "outputs": []
    },
    {
      "cell_type": "code",
      "source": [
        "numHrs = int(input(\"Horas: \"))\n",
        "valorXHrs = float(input(\"Valor: \"))\n",
        "\n",
        "print(\"Sueldo: \", sueldo(numHrs, valorXHrs))"
      ],
      "metadata": {
        "id": "oBSx0kVqh9bp",
        "outputId": "aa419b4c-a0f8-45db-8654-2099b672dbd4",
        "colab": {
          "base_uri": "https://localhost:8080/"
        }
      },
      "execution_count": null,
      "outputs": [
        {
          "output_type": "stream",
          "name": "stdout",
          "text": [
            "Horas: 10\n",
            "Valor: 1.5\n",
            "Sueldo:  540.0\n"
          ]
        }
      ]
    },
    {
      "cell_type": "markdown",
      "source": [
        "Ejercicio: Elevar un numero al cuadrado."
      ],
      "metadata": {
        "id": "Rgwwh_9T541S"
      }
    },
    {
      "cell_type": "code",
      "source": [
        "def elevarCuadrado(base=0, exponente=2):\n",
        "  return base**exponente"
      ],
      "metadata": {
        "id": "ePvwoRM_6HsV"
      },
      "execution_count": null,
      "outputs": []
    },
    {
      "cell_type": "code",
      "source": [
        "num = int(input(\"Num: \"))\n",
        "print(\"Cuadrado: \", elevarCuadrado(num, 3))"
      ],
      "metadata": {
        "collapsed": true,
        "id": "JSl4IfzK6R8J",
        "outputId": "05c29ba4-2905-4b4f-f329-92e9bd0d9717",
        "colab": {
          "base_uri": "https://localhost:8080/"
        }
      },
      "execution_count": null,
      "outputs": [
        {
          "output_type": "stream",
          "name": "stdout",
          "text": [
            "Num: 4\n",
            "Cuadrado:  64\n"
          ]
        }
      ]
    },
    {
      "cell_type": "markdown",
      "source": [
        "Usando funciones lambda."
      ],
      "metadata": {
        "id": "9BlqFgzs8DPW"
      }
    },
    {
      "cell_type": "code",
      "source": [
        "elevarCuadradoLambda = lambda base, exponente: base**exponente"
      ],
      "metadata": {
        "id": "XTWuOQn58CYO"
      },
      "execution_count": null,
      "outputs": []
    },
    {
      "cell_type": "code",
      "source": [
        "valor = int(input(\"Num: \"))\n",
        "print(\"Cuadrado: \", elevarCuadradoLambda(valor, 2))"
      ],
      "metadata": {
        "id": "GO4TWEqa85Fs",
        "outputId": "38cd7cb9-7941-496c-bd3b-e3e8b37715ce",
        "colab": {
          "base_uri": "https://localhost:8080/"
        }
      },
      "execution_count": null,
      "outputs": [
        {
          "output_type": "stream",
          "name": "stdout",
          "text": [
            "Num: 4\n",
            "Cuadrado:  16\n"
          ]
        }
      ]
    },
    {
      "cell_type": "markdown",
      "source": [
        "Ejercicio: obtener la raiz cuadrada de una serie de numeros fijos."
      ],
      "metadata": {
        "id": "8HjU_xAyXU3A"
      }
    },
    {
      "cell_type": "code",
      "source": [
        "serie = [5, 4, 3, 2, 6, 7]\n",
        "\n",
        "resp = map(lambda x: x**0.5, serie)\n",
        "print(list(resp))"
      ],
      "metadata": {
        "id": "kRU7wOnP_Z5_",
        "outputId": "e51e6648-1610-471f-97d9-dd544da33739",
        "colab": {
          "base_uri": "https://localhost:8080/"
        }
      },
      "execution_count": null,
      "outputs": [
        {
          "output_type": "stream",
          "name": "stdout",
          "text": [
            "[2.23606797749979, 2.0, 1.7320508075688772, 1.4142135623730951, 2.449489742783178, 2.6457513110645907]\n"
          ]
        }
      ]
    },
    {
      "cell_type": "markdown",
      "source": [
        "Ejercicios con funciones preconstruidas en python.:\n",
        "\n",
        "* MAP."
      ],
      "metadata": {
        "id": "z_cjhecGbTuF"
      }
    },
    {
      "cell_type": "code",
      "source": [
        "numeros = [1,2,3,4,5,6,7,8,9]\n",
        "print(list(map(lambda n: n*2, numeros)))"
      ],
      "metadata": {
        "id": "bTITuzd8C8fn",
        "outputId": "6c83c2e9-049d-4844-9730-2ac0e84e442a",
        "colab": {
          "base_uri": "https://localhost:8080/"
        }
      },
      "execution_count": null,
      "outputs": [
        {
          "output_type": "stream",
          "name": "stdout",
          "text": [
            "[2, 4, 6, 8, 10, 12, 14, 16, 18]\n"
          ]
        }
      ]
    },
    {
      "cell_type": "code",
      "source": [
        "numeros = [1,2,3,4,5,6,7,8,9, 10]\n",
        "ntabla = int(input(\"Tabla: \"))\n",
        "print(list(map(lambda n: n*ntabla, numeros))) #tabla de multiplicar"
      ],
      "metadata": {
        "id": "ZRS2K312b7_e",
        "outputId": "9a4f21b4-13b9-4345-e705-54c7549c334f",
        "colab": {
          "base_uri": "https://localhost:8080/"
        }
      },
      "execution_count": null,
      "outputs": [
        {
          "output_type": "stream",
          "name": "stdout",
          "text": [
            "Tabla: 7\n",
            "[7, 14, 21, 28, 35, 42, 49, 56, 63, 70]\n"
          ]
        }
      ]
    },
    {
      "cell_type": "markdown",
      "source": [
        "* FILTER"
      ],
      "metadata": {
        "id": "LgIiXtRxc_7s"
      }
    },
    {
      "cell_type": "code",
      "source": [
        "numeros = [1,2,3,4,5,6,7,8,9,10]\n",
        "print(\"Pares: \", list(filter(lambda n: n%2==0, numeros))) #obtener solo los numeros pares.\n",
        "print(\"Impares: \", list(filter(lambda n: n%2!=0, numeros))) #obtener solo los numeros impares"
      ],
      "metadata": {
        "id": "_ZZnhkq2c_bt",
        "outputId": "ed53ae21-5c44-4c5a-fae1-b0c199d4d6e8",
        "colab": {
          "base_uri": "https://localhost:8080/"
        }
      },
      "execution_count": null,
      "outputs": [
        {
          "output_type": "stream",
          "name": "stdout",
          "text": [
            "Pares:  [2, 4, 6, 8, 10]\n",
            "Impares:  [1, 3, 5, 7, 9]\n"
          ]
        }
      ]
    },
    {
      "cell_type": "code",
      "source": [
        "notas = [8,4,9,10,7,6,9,10,2,3,1,8,2,9]\n",
        "print(\"Aprobados: \", list(filter(lambda n: n>=6, notas)))\n",
        "print(\"Reprobados: \", list(filter(lambda n: n<6, notas)))"
      ],
      "metadata": {
        "id": "d3z2gaiedn19",
        "outputId": "9e7d0fc2-b10f-4f83-d467-f2e8e2424724",
        "colab": {
          "base_uri": "https://localhost:8080/"
        }
      },
      "execution_count": null,
      "outputs": [
        {
          "output_type": "stream",
          "name": "stdout",
          "text": [
            "Aprobados:  [8, 9, 10, 7, 6, 9, 10, 8, 9]\n",
            "Reprobados:  [4, 2, 3, 1, 2]\n"
          ]
        }
      ]
    },
    {
      "cell_type": "markdown",
      "source": [
        "* REDUCE"
      ],
      "metadata": {
        "id": "_SoSWq5seLqW"
      }
    },
    {
      "cell_type": "code",
      "source": [
        "from functools import reduce\n",
        "numeros = [7,8,9,10]\n",
        "print(\"Suma: \", reduce(lambda n, acum: n+acum, numeros))"
      ],
      "metadata": {
        "id": "rt36E0jfeIxl",
        "outputId": "4a4c3b1a-2bb5-4a53-ce31-0c1fe9eb60c8",
        "colab": {
          "base_uri": "https://localhost:8080/"
        }
      },
      "execution_count": null,
      "outputs": [
        {
          "output_type": "stream",
          "name": "stdout",
          "text": [
            "Suma:  34\n"
          ]
        }
      ]
    },
    {
      "cell_type": "code",
      "source": [
        "numeros = [7,8,9,10, 1,5]\n",
        "print(\"Num Mayor: \", reduce(lambda n, mayor: n if n>mayor else mayor, numeros))\n",
        "print(\"Num Menor: \", reduce(lambda n, menor: n if n<menor else menor, numeros))"
      ],
      "metadata": {
        "id": "FrzhUHY_e4Gk",
        "outputId": "fbf89ba3-8a4b-4b6c-fea2-369f46ed6fb8",
        "colab": {
          "base_uri": "https://localhost:8080/"
        }
      },
      "execution_count": null,
      "outputs": [
        {
          "output_type": "stream",
          "name": "stdout",
          "text": [
            "Num Mayor:  10\n",
            "Num Menor:  1\n"
          ]
        }
      ]
    },
    {
      "cell_type": "markdown",
      "source": [
        "**TUPLAS**"
      ],
      "metadata": {
        "id": "NeujQ0o2goJr"
      }
    },
    {
      "cell_type": "code",
      "source": [
        "numeros = (5,8,7,9,5,4,7)\n",
        "print(\"Tupla: \", numeros, \"Primer: \", numeros[0], \"Ultimo: \", numeros[-1], \"Rango: 2-6 \", numeros[2:6])\n",
        "print(numeros.count(5))"
      ],
      "metadata": {
        "id": "q50klQU9gr60",
        "outputId": "1645e771-df37-467c-ce41-e3b7a18ef31f",
        "colab": {
          "base_uri": "https://localhost:8080/"
        }
      },
      "execution_count": null,
      "outputs": [
        {
          "output_type": "stream",
          "name": "stdout",
          "text": [
            "Tupla:  (5, 8, 7, 9, 5, 4, 7) Primer:  5 Ultimo:  7 Rango: 2-6  (7, 9, 5, 4)\n",
            "2\n"
          ]
        }
      ]
    },
    {
      "cell_type": "code",
      "source": [
        "semana = (\"domingo\", \"lunes\", \"martes\", \"miercoles\", \"jueves\", \"viernes\", \"sabado\")\n",
        "print(\"Primer dia: \",semana[0], \"; Cuantas veces repite domingo: \",semana.count(\"domingo\"), \"; dias de la seman: \", len(semana))"
      ],
      "metadata": {
        "id": "QtDrGzBahlON",
        "outputId": "f5aba41d-7680-4138-84c3-b3171de2b39d",
        "colab": {
          "base_uri": "https://localhost:8080/"
        }
      },
      "execution_count": null,
      "outputs": [
        {
          "output_type": "stream",
          "name": "stdout",
          "text": [
            "Primer dia:  domingo ; Cuantas veces repite domingo:  1 ; dias de la seman:  7\n"
          ]
        }
      ]
    },
    {
      "cell_type": "code",
      "source": [
        "import datetime\n",
        "hoy = datetime.date.today()\n",
        "dia = hoy.day\n",
        "mes = hoy.month\n",
        "year = hoy.year\n",
        "dia_semana = hoy.isoweekday()\n",
        "\n",
        "semana = (\"domingo\",\"lunes\",\"martes\",\"miercoles\",\"jueves\", \"viernes\", \"sabado\")\n",
        "meses = (\"enero\", \"febrero\", \"marzo\", \"abril\", \"mayo\", \"junio\", \"julio\", \"agosto\", \"septiembre\", \"octubre\", \"noviembre\", \"diciembre\")\n",
        "\n",
        "print(\"Fecha: \", semana[dia_semana], dia, \" de \", meses[mes], \" del \", year)\n",
        "\n"
      ],
      "metadata": {
        "id": "T58-t4HgiiG0",
        "outputId": "cb71c986-b81a-45a9-edee-885804a20883",
        "colab": {
          "base_uri": "https://localhost:8080/"
        }
      },
      "execution_count": null,
      "outputs": [
        {
          "output_type": "stream",
          "name": "stdout",
          "text": [
            "Fecha:  lunes 29  de  agosto  del  2024\n"
          ]
        }
      ]
    },
    {
      "cell_type": "code",
      "source": [
        "tuplas = (\"Luis\",\"Juan\")\n",
        "#tuplas[0] = \"Pedro\" #Las tuplas son inmutables, no puede cambiar su valor.\n",
        "print(tuplas)\n",
        "\n",
        "listas = [\"Luis\",\"Juan\"]\n",
        "listas[0] = \"Pedro\" #Las listas son mutables, si puede cambiar su valor.\n",
        "print(listas)"
      ],
      "metadata": {
        "id": "PGssJxIUlAMD",
        "outputId": "5c8e18fc-b75a-44ca-ad52-498c17707033",
        "colab": {
          "base_uri": "https://localhost:8080/"
        }
      },
      "execution_count": null,
      "outputs": [
        {
          "output_type": "stream",
          "name": "stdout",
          "text": [
            "('Luis', 'Juan')\n",
            "['Pedro', 'Juan']\n"
          ]
        }
      ]
    },
    {
      "cell_type": "markdown",
      "source": [
        "**LISTAS**"
      ],
      "metadata": {
        "id": "2qMAI3EellAS"
      }
    },
    {
      "cell_type": "code",
      "source": [
        "listas = [5,8,7,9,\"Luis\", \"Jonathan\", \"Ramon\"]\n",
        "print(listas, listas[-1])"
      ],
      "metadata": {
        "id": "1VIsDuCglkjq",
        "outputId": "38b2346e-cbd8-432b-d893-94b70bd01d85",
        "colab": {
          "base_uri": "https://localhost:8080/"
        }
      },
      "execution_count": null,
      "outputs": [
        {
          "output_type": "stream",
          "name": "stdout",
          "text": [
            "[5, 8, 7, 9, 'Luis', 'Jonathan', 'Ramon'] Ramon\n"
          ]
        }
      ]
    },
    {
      "cell_type": "code",
      "source": [
        "def obtenerNota(nota, eval):\n",
        "  return eval[1]*0.3 + nota"
      ],
      "metadata": {
        "id": "Krf-kaFxmtvC"
      },
      "execution_count": null,
      "outputs": []
    },
    {
      "cell_type": "code",
      "source": [
        "matriz = [ [\"Lab1\", 8],[\"Lab2\", 9], [\"Parcial\", 8] ] #8*0.3=2.4 + 9*0.3=2.7 + 8*0.3=2.4\n",
        "reduce(obtenerNota, matriz, 0)"
      ],
      "metadata": {
        "id": "ujVjshw2l2D8",
        "outputId": "b20dc22e-1c16-4c41-9587-64fd7e03a5de",
        "colab": {
          "base_uri": "https://localhost:8080/"
        }
      },
      "execution_count": null,
      "outputs": [
        {
          "output_type": "execute_result",
          "data": {
            "text/plain": [
              "7.5"
            ]
          },
          "metadata": {},
          "execution_count": 110
        }
      ]
    },
    {
      "cell_type": "code",
      "source": [
        "serie = [1,2,3,3,4,4,1,8,9]\n",
        "print(serie.count(1))"
      ],
      "metadata": {
        "colab": {
          "base_uri": "https://localhost:8080/"
        },
        "id": "pFvz6pAzD9Er",
        "outputId": "8b65e53f-51ab-4a1a-933c-3af07ba94ca8"
      },
      "execution_count": 13,
      "outputs": [
        {
          "output_type": "stream",
          "name": "stdout",
          "text": [
            "2\n"
          ]
        }
      ]
    },
    {
      "cell_type": "code",
      "source": [
        "numeros = []\n",
        "for i in range(1,10):\n",
        "  numeros.append(int(input(\"Num: \"+ str(i)+\": \")))\n",
        "num = int(input(\"Num a buscar: \"))\n",
        "print(\"Serie: \", numeros, \"El numero \", num, \", se repite: \", numeros.count(num))"
      ],
      "metadata": {
        "colab": {
          "base_uri": "https://localhost:8080/"
        },
        "id": "QY02OzhzE21b",
        "outputId": "3155265c-a0f5-4ffb-d7d4-e749b83183ad"
      },
      "execution_count": 2,
      "outputs": [
        {
          "output_type": "stream",
          "name": "stdout",
          "text": [
            "Num: 1: 1\n",
            "Num: 2: 2\n",
            "Num: 3: 3\n",
            "Num: 4: 4\n",
            "Num: 5: 5\n",
            "Num: 6: 6\n",
            "Num: 7: 7\n",
            "Num: 8: 8\n",
            "Num: 9: 9\n",
            "Num a buscar: 2\n",
            "Serie:  [1, 2, 3, 4, 5, 6, 7, 8, 9] El numero  2 , se repite:  1\n"
          ]
        }
      ]
    },
    {
      "cell_type": "code",
      "source": [
        "numeros = [1,5,2,6,2,1,4]\n",
        "numeros.sort()\n",
        "numeros.reverse()\n",
        "print(numeros)"
      ],
      "metadata": {
        "colab": {
          "base_uri": "https://localhost:8080/"
        },
        "id": "tq4B_rsjFAPM",
        "outputId": "ded2a1d1-e19f-4210-94c6-80c041394094"
      },
      "execution_count": 3,
      "outputs": [
        {
          "output_type": "stream",
          "name": "stdout",
          "text": [
            "[6, 5, 4, 2, 2, 1, 1]\n"
          ]
        }
      ]
    },
    {
      "cell_type": "markdown",
      "source": [
        "DICCIONARIOS - JSON"
      ],
      "metadata": {
        "id": "5aCLFm2RFE_m"
      }
    },
    {
      "cell_type": "code",
      "source": [
        "datos = {\n",
        "    \"codigo\":\"USIS018804\",\n",
        "    \"nombre\":\"Luis Hernandez\",\n",
        "    \"materias\":[\n",
        "        {\"codigo\":\"611\",\"nombre\":\"Programacion III\",\"notas\":{\n",
        "            \"c1\":{\"lab1\":8,\"lab2\":9,\"parcial\":10},\n",
        "            \"c2\":{\"lab1\":10,\"lab2\":9,\"parcial\":10},\n",
        "            \"c3\":{\"lab1\":4,\"lab2\":5,\"parcial\":8}\n",
        "            }\n",
        "         },\n",
        "        {\"codigo\":\"612\",\"nombre\":\"Base de Datos\"}\n",
        "    ]\n",
        "}\n",
        "print(datos[\"nombre\"], datos[\"materias\"][0][\"nombre\"], datos[\"materias\"][0][\"notas\"][\"c1\"])"
      ],
      "metadata": {
        "colab": {
          "base_uri": "https://localhost:8080/"
        },
        "id": "MQBnG-oQFIGZ",
        "outputId": "80a3a806-0007-4ecb-f851-997bbc2128ef"
      },
      "execution_count": 4,
      "outputs": [
        {
          "output_type": "stream",
          "name": "stdout",
          "text": [
            "Luis Hernandez Programacion III {'lab1': 8, 'lab2': 9, 'parcial': 10}\n"
          ]
        }
      ]
    },
    {
      "cell_type": "markdown",
      "source": [
        "Ejercicios evaluados: calcular sobre el suelo las deducciones por la ley ISSS (3%), AFP(6.25%), ISR(Segun tabla) e imprima el total deducciones y sueldo neto. (20%)"
      ],
      "metadata": {
        "id": "4JfxYYz9y-jL"
      }
    },
    {
      "cell_type": "code",
      "source": [
        "def calcular_deducciones_y_sueldo_neto(sueldo_bruto):\n",
        "    # Deducciones\n",
        "    isss = sueldo_bruto * 0.03\n",
        "    afp = sueldo_bruto * 0.0625\n",
        "\n",
        "    if sueldo_bruto <= 472.00:\n",
        "        isr = 0.0\n",
        "    elif sueldo_bruto <= 895.24:\n",
        "        isr = (sueldo_bruto - 472.00) * 0.10 + 17.67\n",
        "    elif sueldo_bruto <= 2038.10:\n",
        "        isr = (sueldo_bruto - 895.24) * 0.20 + 60.00\n",
        "    else:\n",
        "        isr = (sueldo_bruto - 2038.10) * 0.30 + 288.57\n",
        "\n",
        "    total_deducciones = isss + afp + isr\n",
        "\n",
        "    sueldo_neto = sueldo_bruto - total_deducciones\n",
        "\n",
        "    return isss, afp, isr, total_deducciones, sueldo_neto\n",
        "\n",
        "def imprimir_resultados(sueldo_bruto, opcion):\n",
        "    isss, afp, isr, total_deducciones, sueldo_neto = calcular_deducciones_y_sueldo_neto(sueldo_bruto)\n",
        "\n",
        "    if opcion == \"1\":\n",
        "        print(f\"Total Deducciones: ${total_deducciones:.2f}\")\n",
        "    elif opcion == \"2\":\n",
        "        print(f\"Sueldo Neto: ${sueldo_neto:.2f}\")\n",
        "    elif opcion == \"3\":\n",
        "        print(f\"Sueldo Bruto: ${sueldo_bruto:.2f}\")\n",
        "        print(f\"ISSS (3%): ${isss:.2f}\")\n",
        "        print(f\"AFP (6.25%): ${afp:.2f}\")\n",
        "        print(f\"ISR: ${isr:.2f}\")\n",
        "        print(f\"Total Deducciones: ${total_deducciones:.2f}\")\n",
        "        print(f\"Sueldo Neto: ${sueldo_neto:.2f}\")\n",
        "    else:\n",
        "        print(\"Opción no válida.\")\n",
        "\n",
        "try:\n",
        "    sueldo_bruto = float(input(\"Ingrese su sueldo bruto: $\"))\n",
        "\n",
        "    print(\"\\nElija el tipo de resultado que desea ver:\")\n",
        "    print(\"1. Solo Total Deducciones\")\n",
        "    print(\"2. Solo Sueldo Neto\")\n",
        "    print(\"3. Ambos\")\n",
        "\n",
        "    opcion = input(\"Ingrese el número de la opción que desea: \")\n",
        "\n",
        "    imprimir_resultados(sueldo_bruto, opcion)\n",
        "\n",
        "except ValueError:\n",
        "    print(\"Por favor, ingrese un valor numérico válido.\")"
      ],
      "metadata": {
        "colab": {
          "base_uri": "https://localhost:8080/"
        },
        "id": "Ah9acAW5z44s",
        "outputId": "99ec96c8-fd9b-4716-8602-c3ca7428908d"
      },
      "execution_count": null,
      "outputs": [
        {
          "output_type": "stream",
          "name": "stdout",
          "text": [
            "Ingrese su sueldo bruto: $15.00\n",
            "\n",
            "Elija el tipo de resultado que desea ver:\n",
            "1. Solo Total Deducciones\n",
            "2. Solo Sueldo Neto\n",
            "3. Ambos\n",
            "Ingrese el número de la opción que desea: 3\n",
            "Sueldo Bruto: $15.00\n",
            "ISSS (3%): $0.45\n",
            "AFP (6.25%): $0.94\n",
            "ISR: $0.00\n",
            "Total Deducciones: $1.39\n",
            "Sueldo Neto: $13.61\n"
          ]
        }
      ]
    },
    {
      "cell_type": "markdown",
      "source": [
        "Calcular el valor a pagar segun el numero de metros consumidos de agua potable (Ver tabla en la siguiente diapositiva)."
      ],
      "metadata": {
        "id": "rKzBygfZ0dpE"
      }
    },
    {
      "cell_type": "code",
      "source": [
        "def calcular_valor_a_pagar(consumo):\n",
        "\n",
        "    cuota_fija = 6.00\n",
        "\n",
        "    if consumo <= 18:\n",
        "        valor_a_pagar = cuota_fija\n",
        "    elif consumo <= 28:\n",
        "        exceso = consumo - 18\n",
        "        valor_a_pagar = cuota_fija + (exceso * 0.45)\n",
        "    else:\n",
        "        exceso_1 = 28 - 18\n",
        "        exceso_2 = consumo - 28\n",
        "        valor_a_pagar = cuota_fija + (exceso_1 * 0.45) + (exceso_2 * 0.65)\n",
        "\n",
        "    return valor_a_pagar\n",
        "\n",
        "try:\n",
        "    consumo = int(input(\"Ingrese el consumo de agua en metros cúbicos: \"))\n",
        "\n",
        "    valor_a_pagar = calcular_valor_a_pagar(consumo)\n",
        "\n",
        "    print(f\"Valor a pagar por {consumo} metros cúbicos consumidos: ${valor_a_pagar:.2f}\")\n",
        "\n",
        "except ValueError:\n",
        "    print(\"Por favor, ingrese un valor numérico válido.\")"
      ],
      "metadata": {
        "colab": {
          "base_uri": "https://localhost:8080/"
        },
        "id": "dqlz_dmU06Wu",
        "outputId": "738cf17c-c36a-46e9-fba3-6bef0759406d"
      },
      "execution_count": null,
      "outputs": [
        {
          "output_type": "stream",
          "name": "stdout",
          "text": [
            "Ingrese el consumo de agua en metros cúbicos: 2\n",
            "Valor a pagar por 2 metros cúbicos consumidos: $6.00\n"
          ]
        }
      ]
    },
    {
      "cell_type": "markdown",
      "source": [
        "Desarrolla la tabla de meses acumulados a n meses. Si puede encontrar la formula matematica para evitar ciclos. (10%)"
      ],
      "metadata": {
        "id": "1E6nakah1c-j"
      }
    },
    {
      "cell_type": "code",
      "source": [
        "def acumulacion_mes(n):\n",
        "    return n * (n + 1) // 2\n",
        "\n",
        "try:\n",
        "    mes = int(input(\"Ingrese el número del mes que desea consultar: \"))\n",
        "\n",
        "    acumulacion = acumulacion_mes(mes)\n",
        "    print(f\"\\nMES: {mes}\\nACUMULACIÓN: {acumulacion}\")\n",
        "\n",
        "except ValueError:\n",
        "    print(\"Por favor, ingrese un valor numérico válido.\")"
      ],
      "metadata": {
        "colab": {
          "base_uri": "https://localhost:8080/"
        },
        "id": "ty8CitDf1yVh",
        "outputId": "970be18a-da59-4807-a57b-2ed87babed26"
      },
      "execution_count": null,
      "outputs": [
        {
          "output_type": "stream",
          "name": "stdout",
          "text": [
            "Ingrese el número del mes que desea consultar: 12\n",
            "\n",
            "MES: 12\n",
            "ACUMULACIÓN: 78\n"
          ]
        }
      ]
    },
    {
      "cell_type": "markdown",
      "source": [
        "Conversores: (40%) (10 item como minimo por cada uno)\n",
        "\n",
        "*   Moneda\n",
        "*   Longitud\n",
        "*   Masa\n",
        "*   Almacenamiento\n",
        "*   Tiempo\n",
        "*   Volumen\n",
        "*   Area\n",
        "\n",
        "\n",
        "\n",
        "\n",
        "\n",
        "\n",
        "\n",
        "\n",
        "\n",
        "\n",
        "\n",
        "\n",
        "\n",
        "\n"
      ],
      "metadata": {
        "id": "siOx1ykT2ALv"
      }
    },
    {
      "cell_type": "code",
      "source": [
        "def convertir_longitud(valor, desde, hacia):\n",
        "    conversiones = {\n",
        "        'metros': 1,\n",
        "        'kilometros': 0.001,\n",
        "        'centimetros': 100,\n",
        "        'milimetros': 1000,\n",
        "        'millas': 0.000621371,\n",
        "        'yardas': 1.09361,\n",
        "        'pies': 3.28084,\n",
        "        'pulgadas': 39.3701,\n",
        "        'nanometros': 1e9,\n",
        "        'micrometros': 1e6\n",
        "    }\n",
        "    return valor * conversiones[hacia] / conversiones[desde]\n",
        "\n",
        "def convertir_masa(valor, desde, hacia):\n",
        "    conversiones = {\n",
        "        'gramos': 1,\n",
        "        'kilogramos': 0.001,\n",
        "        'miligramos': 1000,\n",
        "        'toneladas': 1e-6,\n",
        "        'libras': 0.00220462,\n",
        "        'onzas': 0.035274,\n",
        "        'microgramos': 1e6,\n",
        "        'nanogramos': 1e9,\n",
        "        'stone': 0.000157473,\n",
        "        'quilates': 5\n",
        "    }\n",
        "    return valor * conversiones[hacia] / conversiones[desde]\n",
        "\n",
        "def convertir_almacenamiento(valor, desde, hacia):\n",
        "    conversiones = {\n",
        "        'bytes': 1,\n",
        "        'kilobytes': 1 / 1024,\n",
        "        'megabytes': 1 / (1024 ** 2),\n",
        "        'gigabytes': 1 / (1024 ** 3),\n",
        "        'terabytes': 1 / (1024 ** 4),\n",
        "        'petabytes': 1 / (1024 ** 5),\n",
        "        'bits': 8,\n",
        "        'kilobits': 8 / 1024,\n",
        "        'megabits': 8 / (1024 ** 2),\n",
        "        'gigabits': 8 / (1024 ** 3)\n",
        "    }\n",
        "    return valor * conversiones[hacia] / conversiones[desde]\n",
        "\n",
        "def convertir_tiempo(valor, desde, hacia):\n",
        "    conversiones = {\n",
        "        'segundos': 1,\n",
        "        'minutos': 1 / 60,\n",
        "        'horas': 1 / 3600,\n",
        "        'dias': 1 / 86400,\n",
        "        'semanas': 1 / 604800,\n",
        "        'meses': 1 / (30.44 * 86400),  # Asumiendo un mes promedio de 30.44 días\n",
        "        'años': 1 / (365.25 * 86400),  # Asumiendo un año promedio de 365.25 días\n",
        "        'milisegundos': 1000,\n",
        "        'microsegundos': 1e6,\n",
        "        'nanosegundos': 1e9\n",
        "    }\n",
        "    return valor * conversiones[hacia] / conversiones[desde]\n",
        "\n",
        "def convertir_volumen(valor, desde, hacia):\n",
        "    conversiones = {\n",
        "        'litros': 1,\n",
        "        'mililitros': 1000,\n",
        "        'centimetros_cubicos': 1000,\n",
        "        'metros_cubicos': 0.001,\n",
        "        'galones': 0.264172,\n",
        "        'pintas': 2.11338,\n",
        "        'onzas_fluidas': 33.814,\n",
        "        'barriles': 0.00628981,\n",
        "        'cups': 4.22675,\n",
        "        'cuartos': 1.05669\n",
        "    }\n",
        "    return valor * conversiones[hacia] / conversiones[desde]\n",
        "\n",
        "def convertir_area(valor, desde, hacia):\n",
        "    conversiones = {\n",
        "        'metros_cuadrados': 1,\n",
        "        'kilometros_cuadrados': 1e-6,\n",
        "        'centimetros_cuadrados': 10000,\n",
        "        'milimetros_cuadrados': 1e6,\n",
        "        'hectareas': 1e-4,\n",
        "        'acres': 0.000247105,\n",
        "        'pies_cuadrados': 10.7639,\n",
        "        'yardas_cuadradas': 1.19599,\n",
        "        'pulgadas_cuadradas': 1550.0031,\n",
        "        'millas_cuadradas': 3.861e-7\n",
        "    }\n",
        "    return valor * conversiones[hacia] / conversiones[desde]\n",
        "\n",
        "def menu():\n",
        "    print(\"\\nSeleccione el tipo de conversión que desea realizar:\")\n",
        "    print(\"1. Longitud\")\n",
        "    print(\"2. Masa\")\n",
        "    print(\"3. Almacenamiento\")\n",
        "    print(\"4. Tiempo\")\n",
        "    print(\"5. Volumen\")\n",
        "    print(\"6. Área\")\n",
        "\n",
        "    return input(\"\\nIngrese el número de la opción elegida: \")\n",
        "\n",
        "def seleccionar_unidades(tipo):\n",
        "    if tipo == \"1\":\n",
        "        print(\"\\nSeleccione la unidad de origen y destino:\")\n",
        "        unidades = ['metros', 'kilometros', 'centimetros', 'milimetros', 'millas', 'yardas', 'pies', 'pulgadas', 'nanometros', 'micrometros']\n",
        "    elif tipo == \"2\":\n",
        "        unidades = ['gramos', 'kilogramos', 'miligramos', 'toneladas', 'libras', 'onzas', 'microgramos', 'nanogramos', 'stone', 'quilates']\n",
        "    elif tipo == \"3\":\n",
        "        unidades = ['bytes', 'kilobytes', 'megabytes', 'gigabytes', 'terabytes', 'petabytes', 'bits', 'kilobits', 'megabits', 'gigabits']\n",
        "    elif tipo == \"4\":\n",
        "        unidades = ['segundos', 'minutos', 'horas', 'dias', 'semanas', 'meses', 'años', 'milisegundos', 'microsegundos', 'nanosegundos']\n",
        "    elif tipo == \"5\":\n",
        "        unidades = ['litros', 'mililitros', 'centimetros_cubicos', 'metros_cubicos', 'galones', 'pintas', 'onzas_fluidas', 'barriles', 'cups', 'cuartos']\n",
        "    elif tipo == \"6\":\n",
        "        unidades = ['metros_cuadrados', 'kilometros_cuadrados', 'centimetros_cuadrados', 'milimetros_cuadrados', 'hectareas', 'acres', 'pies_cuadrados', 'yardas_cuadradas', 'pulgadas_cuadradas', 'millas_cuadradas']\n",
        "    else:\n",
        "        unidades = []\n",
        "\n",
        "    for i, unidad in enumerate(unidades):\n",
        "        print(f\"{i + 1}. {unidad}\")\n",
        "\n",
        "    desde = int(input(\"\\nSeleccione la unidad de origen: \")) - 1\n",
        "    hacia = int(input(\"Seleccione la unidad de destino: \")) - 1\n",
        "\n",
        "    return unidades[desde], unidades[hacia]\n",
        "\n",
        "try:\n",
        "    tipo_conversion = menu()\n",
        "    unidad_origen, unidad_destino = seleccionar_unidades(tipo_conversion)\n",
        "    valor = float(input(\"\\nIngrese el valor a convertir: \"))\n",
        "\n",
        "    if tipo_conversion == \"1\":\n",
        "        resultado = convertir_longitud(valor, unidad_origen, unidad_destino)\n",
        "    elif tipo_conversion == \"2\":\n",
        "        resultado = convertir_masa(valor, unidad_origen, unidad_destino)\n",
        "    elif tipo_conversion == \"3\":\n",
        "        resultado = convertir_almacenamiento(valor, unidad_origen, unidad_destino)\n",
        "    elif tipo_conversion == \"4\":\n",
        "        resultado = convertir_tiempo(valor, unidad_origen, unidad_destino)\n",
        "    elif tipo_conversion == \"5\":\n",
        "        resultado = convertir_volumen(valor, unidad_origen, unidad_destino)\n",
        "    elif tipo_conversion == \"6\":\n",
        "        resultado = convertir_area(valor, unidad_origen, unidad_destino)\n",
        "    else:\n",
        "        print(\"Tipo de conversión no válido.\")\n",
        "        resultado = None\n",
        "\n",
        "    if resultado is not None:\n",
        "        print(f\"\\n{valor} {unidad_origen} son equivalentes a {resultado:.6f} {unidad_destino}\")\n",
        "\n",
        "except ValueError:\n",
        "    print(\"Por favor, ingrese valores numéricos válidos.\")"
      ],
      "metadata": {
        "colab": {
          "base_uri": "https://localhost:8080/"
        },
        "id": "7FMjQOOq3pJl",
        "outputId": "f1c2dd56-5d4d-459d-8282-ace6d4752237"
      },
      "execution_count": 14,
      "outputs": [
        {
          "output_type": "stream",
          "name": "stdout",
          "text": [
            "\n",
            "Seleccione el tipo de conversión que desea realizar:\n",
            "1. Longitud\n",
            "2. Masa\n",
            "3. Almacenamiento\n",
            "4. Tiempo\n",
            "5. Volumen\n",
            "6. Área\n",
            "\n",
            "Ingrese el número de la opción elegida: 1\n",
            "\n",
            "Seleccione la unidad de origen y destino:\n",
            "1. metros\n",
            "2. kilometros\n",
            "3. centimetros\n",
            "4. milimetros\n",
            "5. millas\n",
            "6. yardas\n",
            "7. pies\n",
            "8. pulgadas\n",
            "9. nanometros\n",
            "10. micrometros\n",
            "\n",
            "Seleccione la unidad de origen: 1\n",
            "Seleccione la unidad de destino: 1\n",
            "\n",
            "Ingrese el valor a convertir: 1\n",
            "\n",
            "1.0 metros son equivalentes a 1.000000 metros\n"
          ]
        }
      ]
    },
    {
      "cell_type": "markdown",
      "source": [
        "Realizar un conversor propio, donde especifiqué el valor de conversión: (10%)\n",
        "\n",
        "\n",
        "\n",
        "*   1 caja -> 25 unidad. Viceversa 80 unidades - 3/5 -> cajas/unidades\n",
        "*   1 saco -> 50 libras. Viceversa 130 libras - 2/30 -> sacos/libras\n",
        "*   1 fardo -> 5 unidades. Viceversa 28 unidades - 5/3 -> fardos/unidades"
      ],
      "metadata": {
        "id": "Ftlcw0oV4p7h"
      }
    },
    {
      "cell_type": "code",
      "source": [
        "def convertir_personalizado(valor, desde, hacia, factor_conversion):\n",
        "    return valor * factor_conversion[hacia] / factor_conversion[desde]\n",
        "\n",
        "def menu_personalizado():\n",
        "    print(\"\\nSeleccione el tipo de conversión que desea realizar:\")\n",
        "    print(\"1. Cajas a Unidades o Unidades a Cajas\")\n",
        "    print(\"2. Sacos a Libras o Libras a Sacos\")\n",
        "    print(\"3. Fardos a Unidades o Unidades a Fardos\")\n",
        "\n",
        "    return input(\"\\nIngrese el número de la opción elegida: \")\n",
        "\n",
        "def seleccionar_unidades_personalizado(tipo):\n",
        "    if tipo == \"1\":\n",
        "        print(\"\\nSeleccione la conversión:\")\n",
        "        unidades = {'cajas': 1/25, 'unidades': 25}\n",
        "    elif tipo == \"2\":\n",
        "        print(\"\\nSeleccione la conversión:\")\n",
        "        unidades = {'sacos': 1/50, 'libras': 50}\n",
        "    elif tipo == \"3\":\n",
        "        print(\"\\nSeleccione la conversión:\")\n",
        "        unidades = {'fardos': 1/5, 'unidades': 5}\n",
        "    else:\n",
        "        unidades = {}\n",
        "\n",
        "    desde = input(\"\\nIngrese la unidad de origen (cajas/sacos/fardos): \").strip().lower()\n",
        "    hacia = input(\"Ingrese la unidad de destino (unidades/libras): \").strip().lower()\n",
        "\n",
        "    return desde, hacia, unidades\n",
        "\n",
        "try:\n",
        "    tipo_conversion = menu_personalizado()\n",
        "    unidad_origen, unidad_destino, factor_conversion = seleccionar_unidades_personalizado(tipo_conversion)\n",
        "    valor = float(input(\"\\nIngrese el valor a convertir: \"))\n",
        "\n",
        "    resultado = convertir_personalizado(valor, unidad_origen, unidad_destino, factor_conversion)\n",
        "\n",
        "    print(f\"\\n{valor} {unidad_origen} son equivalentes a {resultado:.2f} {unidad_destino}\")\n",
        "\n",
        "except ValueError:\n",
        "    print(\"Por favor, ingrese valores numéricos válidos.\")\n",
        "except KeyError:\n",
        "    print(\"Conversión no válida.\")"
      ],
      "metadata": {
        "colab": {
          "base_uri": "https://localhost:8080/"
        },
        "id": "Xd0cODqj5L_D",
        "outputId": "079fd27f-cf74-4020-afac-179b4cb9e702"
      },
      "execution_count": null,
      "outputs": [
        {
          "output_type": "stream",
          "name": "stdout",
          "text": [
            "\n",
            "Seleccione el tipo de conversión que desea realizar:\n",
            "1. Cajas a Unidades o Unidades a Cajas\n",
            "2. Sacos a Libras o Libras a Sacos\n",
            "3. Fardos a Unidades o Unidades a Fardos\n",
            "\n",
            "Ingrese el número de la opción elegida: 1\n",
            "\n",
            "Seleccione la conversión:\n",
            "\n",
            "Ingrese la unidad de origen (cajas/sacos/fardos): cajas\n",
            "Ingrese la unidad de destino (unidades/libras): unidades \n",
            "\n",
            "Ingrese el valor a convertir: 12\n",
            "\n",
            "12.0 cajas son equivalentes a 7500.00 unidades\n"
          ]
        }
      ]
    }
  ]
}