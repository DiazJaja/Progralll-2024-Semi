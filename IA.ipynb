{
  "cells": [
    {
      "cell_type": "markdown",
      "metadata": {
        "id": "view-in-github",
        "colab_type": "text"
      },
      "source": [
        "<a href=\"https://colab.research.google.com/github/DiazJaja/Progralll-2024-Semi/blob/Progralll-Computolll/IA.ipynb\" target=\"_parent\"><img src=\"https://colab.research.google.com/assets/colab-badge.svg\" alt=\"Open In Colab\"/></a>"
      ]
    },
    {
      "cell_type": "code",
      "execution_count": null,
      "metadata": {
        "id": "gi8QfYs5n0lr"
      },
      "outputs": [],
      "source": [
        "#importar la libreria de tensorflow para sumar dos numeros.\n",
        "import tensorflow as tf"
      ]
    },
    {
      "cell_type": "code",
      "execution_count": null,
      "metadata": {
        "colab": {
          "base_uri": "https://localhost:8080/"
        },
        "id": "5jSagkjNoG6b",
        "outputId": "6a7bde42-a3ab-40b0-b689-dedac9450c55"
      },
      "outputs": [
        {
          "name": "stdout",
          "output_type": "stream",
          "text": [
            "Num 1: 2\n",
            "Num 2: 2\n",
            "<tf.Variable 'Variable:0' shape=() dtype=int32, numpy=2>\n",
            "La suma es:  4\n"
          ]
        }
      ],
      "source": [
        "num1 = int(input(\"Num 1: \"))\n",
        "num2 = int(input(\"Num 2: \"))\n",
        "\n",
        "a = tf.Variable(num1)\n",
        "b = tf.Variable(num2)\n",
        "\n",
        "print(a)\n",
        "\n",
        "respuesta = tf.add(a,b)\n",
        "\n",
        "print(\"La suma es: \", respuesta.numpy())"
      ]
    },
    {
      "cell_type": "code",
      "execution_count": null,
      "metadata": {
        "id": "IBrj6WV2oMU7"
      },
      "outputs": [],
      "source": [
        "#importar la libreria de pandas.\n",
        "import pandas as pd"
      ]
    },
    {
      "cell_type": "code",
      "execution_count": null,
      "metadata": {
        "collapsed": true,
        "id": "B02eWG-MoPrl"
      },
      "outputs": [],
      "source": [
        "#leer el archivo de notas\n",
        "ruta = \"/content/.csv\"\n",
        "notas = pd.read_csv(ruta, sep=\";\", encoding=\"utf-8\")\n",
        "\n",
        "print(notas[\"nota\"])"
      ]
    },
    {
      "cell_type": "code",
      "execution_count": null,
      "metadata": {
        "id": "rSuY-PJFoS8Z"
      },
      "outputs": [],
      "source": [
        "#Obtener el listado de alumno aprobados\n",
        "aprobados = notas[notas[\"nota\"]>=6]\n",
        "print(aprobados)"
      ]
    },
    {
      "cell_type": "code",
      "execution_count": null,
      "metadata": {
        "id": "NFi6TJlPoWcG"
      },
      "outputs": [],
      "source": [
        "#Obtener el listado de reprobados.\n",
        "reprobados = notas[notas[\"nota\"]<6]\n",
        "print(reprobados)"
      ]
    },
    {
      "cell_type": "code",
      "execution_count": null,
      "metadata": {
        "id": "gbJufOTqoaGf"
      },
      "outputs": [],
      "source": [
        "#Cuantos (numero) aprobaron la materia.\n",
        "print(\"Numero de Aprobados\", len(aprobados))\n",
        "cantidad_aprobados = notas.loc[notas[\"nota\"]>=6].agg({\"count\"})\n",
        "\n",
        "print(\"Cantdad de aprobados\", cantidad_aprobados)"
      ]
    },
    {
      "cell_type": "code",
      "execution_count": null,
      "metadata": {
        "id": "3Mqrtmj6odaq"
      },
      "outputs": [],
      "source": [
        "#Cuantos (Numero) reprobaron la materia\n",
        "cantidad_reprobados = reprobados.agg({\"count\"})\n",
        "print(\"Cantdad de reprobados: \", cantidad_reprobados)"
      ]
    },
    {
      "cell_type": "code",
      "execution_count": null,
      "metadata": {
        "id": "KMzeP8bcoghQ"
      },
      "outputs": [],
      "source": [
        "#agrupar por notas.\n",
        "grupo = notas.groupby([\"nota\"]).agg({\n",
        "  'nombre': lambda x: ', '.join(map(str, x))\n",
        "})\n",
        "print(grupo)"
      ]
    },
    {
      "cell_type": "markdown",
      "metadata": {
        "id": "AbgEUfYguEdk"
      },
      "source": [
        "Entrenando una IA de coversores de temperatura"
      ]
    },
    {
      "cell_type": "code",
      "execution_count": null,
      "metadata": {
        "colab": {
          "base_uri": "https://localhost:8080/"
        },
        "id": "_68DddHZuDbS",
        "outputId": "0a4ffd2f-1984-497f-ded2-36a8196ca02f"
      },
      "outputs": [
        {
          "output_type": "stream",
          "name": "stdout",
          "text": [
            "      c      f       k\n",
            "0   -50  -58.0  223.15\n",
            "1   -40  -40.0  233.15\n",
            "2   -30  -22.0  243.15\n",
            "3   -20   -4.0  253.15\n",
            "4   -15    5.0  258.15\n",
            "5   -10   14.0  263.15\n",
            "6    -5   23.0  268.15\n",
            "7    -4   24.8  269.15\n",
            "8    -3   26.6  270.15\n",
            "9    -2   28.4  271.15\n",
            "10   -1   30.2  272.15\n",
            "11    0   32.0  273.15\n",
            "12    1   33.8  274.15\n",
            "13    2   35.6  275.15\n",
            "14    3   37.4  276.15\n",
            "15    4   39.2  277.15\n",
            "16    5   41.0  278.15\n",
            "17   10   50.0  283.15\n",
            "18   15   59.0  288.15\n",
            "19   20   68.0  293.15\n",
            "20   30   86.0  303.15\n",
            "21   40  104.0  313.15\n",
            "22   50  122.0  323.15\n",
            "23   15   59.0  288.15\n",
            "24   20   68.0  293.15\n",
            "25   25   77.0  298.15\n",
            "26   30   86.0  303.15\n",
            "27   35   95.0  308.15\n",
            "28   40  104.0  313.15\n",
            "29   45  113.0  318.15\n",
            "30   50  122.0  323.15\n",
            "31   55  131.0  328.15\n",
            "32   60  140.0  333.15\n",
            "33   65  149.0  338.15\n",
            "34   70  158.0  343.15\n",
            "35   75  167.0  348.15\n",
            "36   80  176.0  353.15\n",
            "37   85  185.0  358.15\n",
            "38   90  194.0  363.15\n",
            "39   95  203.0  368.15\n",
            "40  100  212.0  373.15\n"
          ]
        }
      ],
      "source": [
        "import tensorflow as tf\n",
        "import pandas as pd\n",
        "\n",
        "temp = pd.read_csv(\"/content/EllenIA.csv\", sep=\";\")\n",
        "print(temp)"
      ]
    },
    {
      "cell_type": "code",
      "execution_count": null,
      "metadata": {
        "id": "OT9SK8n5un1I"
      },
      "outputs": [],
      "source": [
        "#datos de entrenamiento\n",
        "celsius = temp[\"c\"]\n",
        "fahrenheit = temp[\"f\"]\n",
        "\n",
        "#print(fahrenheit)"
      ]
    },
    {
      "cell_type": "code",
      "execution_count": null,
      "metadata": {
        "colab": {
          "base_uri": "https://localhost:8080/"
        },
        "id": "EgCgwTH5CBLw",
        "outputId": "530b9093-763b-40c3-cf20-a99a6391a8ce"
      },
      "outputs": [
        {
          "output_type": "stream",
          "name": "stderr",
          "text": [
            "/usr/local/lib/python3.10/dist-packages/keras/src/layers/core/dense.py:87: UserWarning: Do not pass an `input_shape`/`input_dim` argument to a layer. When using Sequential models, prefer using an `Input(shape)` object as the first layer in the model instead.\n",
            "  super().__init__(activity_regularizer=activity_regularizer, **kwargs)\n"
          ]
        }
      ],
      "source": [
        "#modelo.\n",
        "modelo = tf.keras.Sequential()\n",
        "modelo.add(tf.keras.layers.Dense(units=1, input_shape=[1]))"
      ]
    },
    {
      "cell_type": "code",
      "execution_count": null,
      "metadata": {
        "id": "dGOPszHAu5DO"
      },
      "outputs": [],
      "source": [
        "#compilar nuestro modelo.\n",
        "modelo.compile(optimizer=tf.keras.optimizers.Adam(1.0), loss=\"mean_squared_error\")\n",
        "\n",
        "#entrenamiento\n",
        "epocas = modelo.fit(celsius, fahrenheit, epochs=200, verbose=0)"
      ]
    },
    {
      "cell_type": "code",
      "execution_count": null,
      "metadata": {
        "id": "KBH1TQg6vr6x"
      },
      "outputs": [],
      "source": [
        "#copilar nuestro modelo.\n",
        "modelo.compile(\n",
        "    optimizer=tf.keras.optimizers.Adam(1.0),\n",
        "    loss='mean_squared_error'\n",
        ")\n",
        "\n",
        "#entrenamiento.\n",
        "epocas = modelo.fit(celsius, fahrenheit, epochs=200, verbose=1)"
      ]
    },
    {
      "cell_type": "code",
      "execution_count": null,
      "metadata": {
        "colab": {
          "base_uri": "https://localhost:8080/"
        },
        "id": "E4lRptXvxCyC",
        "outputId": "7eda759b-7164-4e0c-ad7e-5b4fbe300447"
      },
      "outputs": [
        {
          "output_type": "stream",
          "name": "stdout",
          "text": [
            "Celsius: 24\n",
            "\u001b[1m1/1\u001b[0m \u001b[32m━━━━━━━━━━━━━━━━━━━━\u001b[0m\u001b[37m\u001b[0m \u001b[1m0s\u001b[0m 42ms/step\n",
            "El valor en Farenheits es:  75.2\n"
          ]
        }
      ],
      "source": [
        "#probar nuestra IA\n",
        "g = int(input(\"Celsius: \"))\n",
        "grados = np.array([g])\n",
        "resp = modelo.predict(grados)\n",
        "print(\"El valor en Farenheits es: \", round(resp[0][0],2) )"
      ]
    },
    {
      "cell_type": "markdown",
      "metadata": {
        "id": "3eOlGDv35AH8"
      },
      "source": [
        "Actividad en clase: Fahrenheit a kelvin"
      ]
    },
    {
      "cell_type": "code",
      "execution_count": null,
      "metadata": {
        "id": "Cc5aUOHH4_FC"
      },
      "outputs": [],
      "source": [
        "import tensorflow as tf\n",
        "import pandas as pd\n",
        "\n",
        "temp = pd.read_csv(\"/content/EllenIA.csv\", sep=\";\")\n",
        "print(temp)"
      ]
    },
    {
      "cell_type": "code",
      "execution_count": null,
      "metadata": {
        "id": "UZHhzL7MKb0h"
      },
      "outputs": [],
      "source": [
        "#datos de entrenamiento\n",
        "Fahrenheit = temp[\"f\"]\n",
        "Kelvin = temp[\"k\"]\n",
        "\n",
        "#print(Kelvin)"
      ]
    },
    {
      "cell_type": "code",
      "execution_count": null,
      "metadata": {
        "colab": {
          "base_uri": "https://localhost:8080/"
        },
        "id": "cOY1xJ-EKiGv",
        "outputId": "516a32ad-82d4-4517-fe83-b3b534ab6409"
      },
      "outputs": [
        {
          "output_type": "stream",
          "name": "stderr",
          "text": [
            "/usr/local/lib/python3.10/dist-packages/keras/src/layers/core/dense.py:87: UserWarning: Do not pass an `input_shape`/`input_dim` argument to a layer. When using Sequential models, prefer using an `Input(shape)` object as the first layer in the model instead.\n",
            "  super().__init__(activity_regularizer=activity_regularizer, **kwargs)\n"
          ]
        }
      ],
      "source": [
        "#modelo.\n",
        "modelo = tf.keras.Sequential()\n",
        "modelo.add(tf.keras.layers.Dense(units=1, input_shape=[1]))"
      ]
    },
    {
      "cell_type": "code",
      "source": [
        "#compilar nuestro modelo.\n",
        "modelo.compile(optimizer=tf.keras.optimizers.Adam(1.0), loss=\"mean_squared_error\")\n",
        "\n",
        "#entrenamiento\n",
        "epocas = modelo.fit(Fahrenheit, Kelvin, epochs=200, verbose=0)"
      ],
      "metadata": {
        "id": "ojOw5xL3fQ_w"
      },
      "execution_count": null,
      "outputs": []
    },
    {
      "cell_type": "code",
      "execution_count": null,
      "metadata": {
        "id": "90MfWayQKpJI"
      },
      "outputs": [],
      "source": [
        "#copilar nuestro modelo.\n",
        "modelo.compile(\n",
        "    optimizer=tf.keras.optimizers.Adam(1.0),\n",
        "    loss='mean_squared_error'\n",
        ")\n",
        "\n",
        "#entrenamiento.\n",
        "epocas = modelo.fit(Fahrenheit, Kelvin, epochs=200, verbose=1)"
      ]
    },
    {
      "cell_type": "code",
      "execution_count": null,
      "metadata": {
        "id": "UGexd2jzLFsW",
        "colab": {
          "base_uri": "https://localhost:8080/"
        },
        "outputId": "084872b3-81a0-48be-d1ad-b89c45cf14c2"
      },
      "outputs": [
        {
          "output_type": "stream",
          "name": "stdout",
          "text": [
            "Fahrenheit: 24\n",
            "\u001b[1m1/1\u001b[0m \u001b[32m━━━━━━━━━━━━━━━━━━━━\u001b[0m\u001b[37m\u001b[0m \u001b[1m0s\u001b[0m 54ms/step\n",
            "El valor en Kelvin es:  268.7056\n"
          ]
        }
      ],
      "source": [
        "#probar nuestra IA\n",
        "g = int(input(\"Fahrenheit: \"))\n",
        "grados = np.array([g])\n",
        "resp = modelo.predict(grados)\n",
        "print(\"El valor en Kelvin es: \", round(resp[0][0],4) )"
      ]
    },
    {
      "cell_type": "markdown",
      "source": [
        "Tarea: Fahrenheit a Celsius"
      ],
      "metadata": {
        "id": "IeQKWbYPU7fP"
      }
    },
    {
      "cell_type": "code",
      "source": [
        "import tensorflow as tf\n",
        "import pandas as pd\n",
        "\n",
        "temp = pd.read_csv(\"/content/EllenIA.csv\", sep=\";\")\n",
        "print(temp)"
      ],
      "metadata": {
        "id": "YRYH2vjHU6pw"
      },
      "execution_count": null,
      "outputs": []
    },
    {
      "cell_type": "code",
      "source": [
        "#datos de entrenamiento\n",
        "Fahrenheit = temp[\"f\"]\n",
        "Celsius = temp[\"c\"]\n",
        "\n",
        "#print(Celsius)"
      ],
      "metadata": {
        "id": "qbSGMel5VGQv"
      },
      "execution_count": null,
      "outputs": []
    },
    {
      "cell_type": "code",
      "source": [
        "#modelo.\n",
        "modelo = tf.keras.Sequential()\n",
        "modelo.add(tf.keras.layers.Dense(units=1, input_shape=[1]))"
      ],
      "metadata": {
        "colab": {
          "base_uri": "https://localhost:8080/"
        },
        "id": "wge9wV3UVPU8",
        "outputId": "9aa69ef0-8404-4acc-bac1-0dc80abe6058"
      },
      "execution_count": null,
      "outputs": [
        {
          "output_type": "stream",
          "name": "stderr",
          "text": [
            "/usr/local/lib/python3.10/dist-packages/keras/src/layers/core/dense.py:87: UserWarning: Do not pass an `input_shape`/`input_dim` argument to a layer. When using Sequential models, prefer using an `Input(shape)` object as the first layer in the model instead.\n",
            "  super().__init__(activity_regularizer=activity_regularizer, **kwargs)\n"
          ]
        }
      ]
    },
    {
      "cell_type": "code",
      "source": [
        "#copilar nuestro modelo.\n",
        "modelo.compile(\n",
        "    optimizer=tf.keras.optimizers.Adam(1.0),\n",
        "    loss='mean_squared_error'\n",
        ")\n",
        "\n",
        "#entrenamiento.\n",
        "epocas = modelo.fit(Fahrenheit, Celsius, epochs=200, verbose=1)"
      ],
      "metadata": {
        "id": "A1ayKcwEVUCs"
      },
      "execution_count": null,
      "outputs": []
    },
    {
      "cell_type": "code",
      "source": [
        "#probar nuestra IA\n",
        "g = int(input(\"Fahrenheit: \"))\n",
        "grados = np.array([g])\n",
        "resp = modelo.predict(grados)\n",
        "print(\"El valor en Celsius es: \", round(resp[0][0],4) )"
      ],
      "metadata": {
        "colab": {
          "base_uri": "https://localhost:8080/"
        },
        "id": "DyHMwIXPVo1H",
        "outputId": "713be528-9b0d-41b9-e729-a3bb3ad367be"
      },
      "execution_count": null,
      "outputs": [
        {
          "output_type": "stream",
          "name": "stdout",
          "text": [
            "Fahrenheit: 24\n",
            "\u001b[1m1/1\u001b[0m \u001b[32m━━━━━━━━━━━━━━━━━━━━\u001b[0m\u001b[37m\u001b[0m \u001b[1m0s\u001b[0m 23ms/step\n",
            "El valor en Celsius es:  -4.4444\n"
          ]
        }
      ]
    },
    {
      "cell_type": "code",
      "source": [
        "import tensorflow as tf\n",
        "import pandas as pd\n",
        "import numpy as np\n",
        "\n",
        "# Cargar los datos de entrenamiento\n",
        "temp = pd.read_csv(\"/content/EllenIA.csv\", sep=\";\")\n",
        "print(temp)  # Muestra los datos de entrenamiento\n",
        "\n",
        "Fahrenheit = temp[\"f\"]\n",
        "Kelvin = temp[\"k\"]\n",
        "Celsius = temp[\"c\"]\n",
        "\n",
        "# Crear el modelo para convertir Fahrenheit a Kelvin\n",
        "modelo_kelvin = tf.keras.Sequential()\n",
        "modelo_kelvin.add(tf.keras.layers.Dense(units=1, input_shape=[1]))\n",
        "modelo_kelvin.compile(optimizer=tf.keras.optimizers.Adam(1.0), loss=\"mean_squared_error\")\n",
        "\n",
        "# Entrenamiento para Kelvin\n",
        "modelo_kelvin.fit(Fahrenheit, Kelvin, epochs=7200, verbose=0)\n",
        "\n",
        "# Crear el modelo para convertir Fahrenheit a Celsius\n",
        "modelo_celsius = tf.keras.Sequential()\n",
        "modelo_celsius.add(tf.keras.layers.Dense(units=1, input_shape=[1]))\n",
        "modelo_celsius.compile(optimizer=tf.keras.optimizers.Adam(1.0), loss=\"mean_squared_error\")\n",
        "\n",
        "# Entrenamiento para Celsius\n",
        "modelo_celsius.fit(Fahrenheit, Celsius, epochs=200, verbose=0)\n",
        "\n",
        "# Función que convierte Fahrenheit a Kelvin\n",
        "def convertir_a_kelvin(fahrenheit):\n",
        "    grados = np.array([fahrenheit])\n",
        "    resp_kelvin = modelo_kelvin.predict(grados)\n",
        "    # Redondear y recortar a 6 dígitos significativos\n",
        "    return format(resp_kelvin[0][0], '.6g')\n",
        "\n",
        "# Función que convierte Fahrenheit a Celsius\n",
        "def convertir_a_celsius(fahrenheit):\n",
        "    grados = np.array([fahrenheit])\n",
        "    resp_celsius = modelo_celsius.predict(grados)\n",
        "    # Redondear y recortar a 6 dígitos significativos\n",
        "    return format(resp_celsius[0][0], '.6g')\n",
        "\n",
        "# Menú para elegir la conversión\n",
        "def menu():\n",
        "    print(\"Elige una opción de conversión:\")\n",
        "    print(\"1. Convertir de Fahrenheit a Celsius\")\n",
        "    print(\"2. Convertir de Fahrenheit a Kelvin\")\n",
        "    print(\"3. Salir\")\n",
        "\n",
        "    opcion = input(\"Ingresa tu opción (1/2/3): \")\n",
        "\n",
        "    if opcion == \"1\":\n",
        "        fahrenheit = float(input(\"Ingresa la temperatura en Fahrenheit: \"))\n",
        "        resultado = convertir_a_celsius(fahrenheit)\n",
        "        print(f\"El valor en Celsius es: {resultado}°C\")\n",
        "    elif opcion == \"2\":\n",
        "        fahrenheit = float(input(\"Ingresa la temperatura en Fahrenheit: \"))\n",
        "        resultado = convertir_a_kelvin(fahrenheit)\n",
        "        print(f\"El valor en Kelvin es: {resultado}K\")\n",
        "    elif opcion == \"3\":\n",
        "        print(\"Saliendo...\")\n",
        "        return\n",
        "    else:\n",
        "        print(\"Opción no válida. Intenta nuevamente.\")\n",
        "\n",
        "    # Volver al menú después de hacer la conversión\n",
        "    menu()\n",
        "\n",
        "# Llamar al menú para comenzar\n",
        "menu()"
      ],
      "metadata": {
        "colab": {
          "base_uri": "https://localhost:8080/"
        },
        "id": "8aCBq9D8ZlB4",
        "outputId": "246d3ec3-2729-405f-a806-875cde857a23"
      },
      "execution_count": null,
      "outputs": [
        {
          "output_type": "stream",
          "name": "stdout",
          "text": [
            "      c      f       k\n",
            "0   -50  -58.0  223.15\n",
            "1   -40  -40.0  233.15\n",
            "2   -30  -22.0  243.15\n",
            "3   -20   -4.0  253.15\n",
            "4   -15    5.0  258.15\n",
            "5   -10   14.0  263.15\n",
            "6    -5   23.0  268.15\n",
            "7    -4   24.8  269.15\n",
            "8    -3   26.6  270.15\n",
            "9    -2   28.4  271.15\n",
            "10   -1   30.2  272.15\n",
            "11    0   32.0  273.15\n",
            "12    1   33.8  274.15\n",
            "13    2   35.6  275.15\n",
            "14    3   37.4  276.15\n",
            "15    4   39.2  277.15\n",
            "16    5   41.0  278.15\n",
            "17   10   50.0  283.15\n",
            "18   15   59.0  288.15\n",
            "19   20   68.0  293.15\n",
            "20   30   86.0  303.15\n",
            "21   40  104.0  313.15\n",
            "22   50  122.0  323.15\n",
            "23   15   59.0  288.15\n",
            "24   20   68.0  293.15\n",
            "25   25   77.0  298.15\n",
            "26   30   86.0  303.15\n",
            "27   35   95.0  308.15\n",
            "28   40  104.0  313.15\n",
            "29   45  113.0  318.15\n",
            "30   50  122.0  323.15\n",
            "31   55  131.0  328.15\n",
            "32   60  140.0  333.15\n",
            "33   65  149.0  338.15\n",
            "34   70  158.0  343.15\n",
            "35   75  167.0  348.15\n",
            "36   80  176.0  353.15\n",
            "37   85  185.0  358.15\n",
            "38   90  194.0  363.15\n",
            "39   95  203.0  368.15\n",
            "40  100  212.0  373.15\n"
          ]
        },
        {
          "output_type": "stream",
          "name": "stderr",
          "text": [
            "/usr/local/lib/python3.10/dist-packages/keras/src/layers/core/dense.py:87: UserWarning: Do not pass an `input_shape`/`input_dim` argument to a layer. When using Sequential models, prefer using an `Input(shape)` object as the first layer in the model instead.\n",
            "  super().__init__(activity_regularizer=activity_regularizer, **kwargs)\n",
            "/usr/local/lib/python3.10/dist-packages/keras/src/layers/core/dense.py:87: UserWarning: Do not pass an `input_shape`/`input_dim` argument to a layer. When using Sequential models, prefer using an `Input(shape)` object as the first layer in the model instead.\n",
            "  super().__init__(activity_regularizer=activity_regularizer, **kwargs)\n"
          ]
        },
        {
          "output_type": "stream",
          "name": "stdout",
          "text": [
            "Elige una opción de conversión:\n",
            "1. Convertir de Fahrenheit a Celsius\n",
            "2. Convertir de Fahrenheit a Kelvin\n",
            "3. Salir\n",
            "Ingresa tu opción (1/2/3): 1\n",
            "Ingresa la temperatura en Fahrenheit: 24\n",
            "\u001b[1m1/1\u001b[0m \u001b[32m━━━━━━━━━━━━━━━━━━━━\u001b[0m\u001b[37m\u001b[0m \u001b[1m0s\u001b[0m 42ms/step\n",
            "El valor en Celsius es: -4.44444°C\n",
            "Elige una opción de conversión:\n",
            "1. Convertir de Fahrenheit a Celsius\n",
            "2. Convertir de Fahrenheit a Kelvin\n",
            "3. Salir\n",
            "Ingresa tu opción (1/2/3): 2\n",
            "Ingresa la temperatura en Fahrenheit: 24\n",
            "\u001b[1m1/1\u001b[0m \u001b[32m━━━━━━━━━━━━━━━━━━━━\u001b[0m\u001b[37m\u001b[0m \u001b[1m0s\u001b[0m 39ms/step\n",
            "El valor en Kelvin es: 268.706K\n",
            "Elige una opción de conversión:\n",
            "1. Convertir de Fahrenheit a Celsius\n",
            "2. Convertir de Fahrenheit a Kelvin\n",
            "3. Salir\n"
          ]
        }
      ]
    }
  ],
  "metadata": {
    "colab": {
      "provenance": [],
      "authorship_tag": "ABX9TyOF/x9ET2VEP835gChvVici",
      "include_colab_link": true
    },
    "kernelspec": {
      "display_name": "Python 3",
      "name": "python3"
    },
    "language_info": {
      "name": "python"
    }
  },
  "nbformat": 4,
  "nbformat_minor": 0
}